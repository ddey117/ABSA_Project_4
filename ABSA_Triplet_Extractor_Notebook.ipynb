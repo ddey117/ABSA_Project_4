{
 "cells": [
  {
   "cell_type": "markdown",
   "metadata": {},
   "source": [
    "# Aspect/Modifier Classification Analysis\n",
    "\n",
    "## Project Links\n",
    "\n",
    "Below is the link for the GitHub project page. \n",
    "\n",
    "[Github link](https://github.com/ddey117/ABSA_Project_4)\n",
    "\n",
    "Import research papers for developement of parser logic.\n",
    "Includes pdf links for spaCy research paper as well as VADER sentiment intensity analyzer.\n",
    "Much work has been done on aspect based sentiment analysis. Please feel free to check out some previous work in the link below. \n",
    "\n",
    "[Research Papers](https://github.com/ddey117/ABSA_Project_4/tree/main/research_papers)\n",
    "\n",
    "For another way to navigate of my overall project, please feel free to check out a HTML version of my project overview at the link below. There is also a link in this directory to see an example of what exactly a Turk worker was looking at when they were labeling data for this project. \n",
    "\n",
    "[html project directory](https://github.com/ddey117/ABSA_Project_4/tree/main/html)\n",
    "\n",
    "\n",
    "\n",
    "## Overview \n",
    "\n",
    "\n",
    "    The target for this project is an established e-commerce business with a large amount of review data, such as Amazon.com or other online retailers. The goal of this project is to take advantage of technology and models provided by Spacy combined with a pretrained sentiment intensity classifier provided by the NLTK toolkit in order to perform more fine grained sentiment analysis at scale in an efficient manner. This project takes advantange of the parsing and part of speech tagging capabilites of Spacy's pipeline in order to extract aspect/opinion/sentiment triplets. After the aspects are identified, they can be grouped using unsupervised machine learning clustering techniques; in this case k-means clustering for model speed and simplicity. The buisness can use the finished product to quickly transform a large amount of informal review data (text data from reviews that may ramble for pages) and transform it into helpful graphs in order to tune into a small number of categories and help funnel resources into areas where they are most needed. Amazon Turk was taken advantage of to crowd source human labels to analyze the performance of the model.   \n",
    "\n",
    "\n",
    " \n",
    "Data Exploration Notebook\n",
    "\n",
    "Author: Dylan Dey\n",
    "\n",
    "\n",
    "\n",
    "The Author can reached by email: ddey2985@gmail.com\n",
    "\n",
    "\n",
    "## Buisness Problem\n",
    "   \n",
    " \n",
    "![CustomerService image](images/CustomerService.jpg)\n",
    "           \n",
    "    Sentiment analysis involves computationally identifying and categorizing the sentiment expressed by an author in a body of text. It has a wide range of applications in industry from stock speculation using sentiment expressed in news and blogs, to identifying customer satisfaction from their reviews and social media posts. \n",
    "    Today, most e-commerce website designs include a section where their customers can post reviews for products or services. Customers are free to write how they feel about fine grained aspects of a product at length. From a business perspective, very valuable information can be extracted from this section, such as customers' opinion on a product, understanding of a product, etc..\n",
    "     On Amazon.com the rating can be between 1 and 5 where 1 is the worst and 5 is the best. A customer can leave as lengthy of a review as they wish about a product to explain why a given rating was posted.  For example, a customer may give a product a low rating because they didn't like someone they spoke to in customer service but liked everything else about the product.  In typical sentiment analysis, these kinds of nuances would be missed since it could only be determined  if the overall body of the review contained positive, neutral, or negative sentiment. Valuable information would be left on the table. \n",
    "     There is potentially a disconnect from the amazon review ratings, and the overall sentiment of the body text explaining the review, especially if you begin to break down the text into smaller aspects. Thus, Aspect Based Sentiment Analysis (ABSA) was chosen to see if a deeper understanding of each product can be gained by breaking down each review into aspect categories to be paired with predicted sentiment, which will then be compared with the overall rating (1-5). \n",
    "     It is often difficult to efficiently get useful data from a large collection of text data. A lot of e-commerce websites have thousands of reviews and more incoming all of the time. Thousands of reviews with hundreds of words of mostly unhelpful information seems fairly unmanageable to most companies. While the reviews are rather informal, if they are carefully broken down there is information worth saving before generalizing again for efficiency. Aspect Based Sentiment Analysis can transform a messy collection of thousands of informal reviews into a neat and manageable collection of a few aspect categories, in this case 4 different categories using the out of box  Aspect/Opinion/Sentiment Triplet Extractor. Each category will have an associated degree of sentiment related to it, and therefore graphics can easily be prepared and presented to digest more precisely what it is that customers do and do not like about a product in a quickly digestible format in real time. By breaking it down into these categories, say for example Product Design, Value, Quality, and Customer Support, the mass of text data has now been transformed into a numerical representation of sentiment towards broad categories of a product that can be directly improved upon by the company. If a product scores very high sentiment for value and design but lower scores for customer support, then a company knows it doesnt need to invest more money into improving the product and actually needs to focus on improving how its forward facing employees interact with customers. "
   ]
  },
  {
   "cell_type": "markdown",
   "metadata": {},
   "source": [
    "## The Data\n",
    "\n",
    "Helpful links: \n",
    "\n",
    "[ReadMe file for Amazon Product Reviews](https://s3.amazonaws.com/amazon-reviews-pds/readme.html)  |\n",
    "[MetaData](https://s3.amazonaws.com/amazon-reviews-pds/tsv/index.txt)\n",
    "\n",
    "\n",
    "The Amazon Customer Reviews (Product Reviews) contains over 130+ million customer reviews available to researchers in TSV files in the amazon-reviews-pds S3 bucket in AWS US East Region, as per the provided readme file. The reviews were collected from 1995 to 2015. See the provided link for associated metadata. This project focuses on the dataset given by pulling “https://s3.amazonaws.com/amazon-reviews-pds/tsv/amazon_reviews_us_Electronics_v1_00.tsv.gz” from the S3 bucket.\n",
    "\n",
    "Product_id [\"B0001FTVEK\"](https://www.amazon.com/Sennheiser-RS120-Wireless-Headphones-Charging/dp/B0001FTVEK) was chosen to showcase the triplet extractor as it had a large amount of verified reviews and a pair of headphones seemed like a reasonable choice for aspect based sentiment analysis.\n",
    "\n",
    "##### Clean Data\n",
    "Text data trends towards exponential growth with increasing dataset size. Therefore, text cleaning and preprocessing was a major considersation of this project. Please refer to my [Text Preprocessing Toolset](https://github.com/ddey117/preprocess_ddey117) that I created to use for this and other projects that involve text data preprocessing. \n",
    "\n",
    "\n",
    "#### Unlabeled Data Created Through Unsupervised Learning\n",
    "\n",
    "This project showcases an out of box product for extracting opinon/aspect/sentiment triplets from a large amount of messy text data and converting it into a neat set of categories for analysis. To do this, however, it takes advantage of some simple clustering techniques from the sklearn cluster library. For this project, kmeans clustering was chosen for speed and simplicity. Error analysis will be discussed later in more detail in regards to how the model performs with clustering the reviews appropriately into categories and what issues it may run into when parsing internet language. Error analysis for the [SentimentIntensityClassifier](https://www.nltk.org/howto/sentiment.html) offered by the Natural Language ToolKit (NLTK library) will be tested against this 'newly' generated data from my unsupervised learning will be performed by comparing to a seperate set of hand labeled aspect/modifier pairs by humans in an expiremental setting. \n",
    "\n",
    "##### experimental setup\n",
    " Using the following [Turk_Form_HTML](html/Turk_Instructions.html) I crowdsourced some labels from humans using Amazon Mechanical Turk to compare to my model using the SentimentIntensityAnalyzer for each aspect/modifier pair extracted from the Amazon reviews. Amazon Mechanical Turk works by quickly dispersing large amounts of data to a large number of people in order to complete simple tasks for a reward. This experiment was set up to reward a penny for each aspect/modifier pair labeled for sentiment from very negative to very positive with an option for NA from a drop down menu (see html above for reference). In total, 410 workers submitted 6107 non-null aspect/opinion pairs for sentiment intensity pertaining to 1438 unique aspects. Duplicate pairs of aspect/opinion pairs were included to inspect variance of submission from human labels and machine labels for each opinion pair. No qualifications or screening was put in place before the workers were chosen, but I did review sections of the data and accept or reject what seemed reasonable. \n",
    "\n",
    "\n",
    "All labels were generated using my triplet extractor on the dataset describing Product_id [\"B0001FTVEK\"](https://www.amazon.com/Sennheiser-RS120-Wireless-Headphones-Charging/dp/B0001FTVEK) and randomized for different aspect/modifier pairs before sending out to humans for rating for sentiment. \n",
    "\n",
    "\n",
    "\n",
    "__________________________________________________________\n",
    "\n",
    "<nav> \n",
    "<a href=\"https://s3.amazonaws.com/amazon-reviews-pds/readme.html\">Amazon Product Reviews ReadME</a> |\n",
    "<a href=\"https://s3.amazonaws.com/amazon-reviews-pds/tsv/index.txt\">Amazon Product Reviews MetaData</a> |                             \n",
    "<a href=\"https://www.amazon.com/Sennheiser-RS120-Wireless-Headphones-Charging/dp/B0001FTVEK\">Sennheiser-RS120-Wireless-Headphones</a> \n",
    "</nav>\n"
   ]
  },
  {
   "cell_type": "code",
   "execution_count": 1,
   "metadata": {
    "scrolled": true
   },
   "outputs": [
    {
     "name": "stderr",
     "output_type": "stream",
     "text": [
      "/Users/dylandey/anaconda3/envs/learn-env/lib/python3.6/site-packages/tensorflow/python/framework/dtypes.py:517: FutureWarning: Passing (type, 1) or '1type' as a synonym of type is deprecated; in a future version of numpy, it will be understood as (type, (1,)) / '(1,)type'.\n",
      "  _np_qint8 = np.dtype([(\"qint8\", np.int8, 1)])\n",
      "/Users/dylandey/anaconda3/envs/learn-env/lib/python3.6/site-packages/tensorflow/python/framework/dtypes.py:518: FutureWarning: Passing (type, 1) or '1type' as a synonym of type is deprecated; in a future version of numpy, it will be understood as (type, (1,)) / '(1,)type'.\n",
      "  _np_quint8 = np.dtype([(\"quint8\", np.uint8, 1)])\n",
      "/Users/dylandey/anaconda3/envs/learn-env/lib/python3.6/site-packages/tensorflow/python/framework/dtypes.py:519: FutureWarning: Passing (type, 1) or '1type' as a synonym of type is deprecated; in a future version of numpy, it will be understood as (type, (1,)) / '(1,)type'.\n",
      "  _np_qint16 = np.dtype([(\"qint16\", np.int16, 1)])\n",
      "/Users/dylandey/anaconda3/envs/learn-env/lib/python3.6/site-packages/tensorflow/python/framework/dtypes.py:520: FutureWarning: Passing (type, 1) or '1type' as a synonym of type is deprecated; in a future version of numpy, it will be understood as (type, (1,)) / '(1,)type'.\n",
      "  _np_quint16 = np.dtype([(\"quint16\", np.uint16, 1)])\n",
      "/Users/dylandey/anaconda3/envs/learn-env/lib/python3.6/site-packages/tensorflow/python/framework/dtypes.py:521: FutureWarning: Passing (type, 1) or '1type' as a synonym of type is deprecated; in a future version of numpy, it will be understood as (type, (1,)) / '(1,)type'.\n",
      "  _np_qint32 = np.dtype([(\"qint32\", np.int32, 1)])\n",
      "/Users/dylandey/anaconda3/envs/learn-env/lib/python3.6/site-packages/tensorflow/python/framework/dtypes.py:526: FutureWarning: Passing (type, 1) or '1type' as a synonym of type is deprecated; in a future version of numpy, it will be understood as (type, (1,)) / '(1,)type'.\n",
      "  np_resource = np.dtype([(\"resource\", np.ubyte, 1)])\n"
     ]
    }
   ],
   "source": [
    "#import necessary libraries\n",
    "\n",
    "import pandas as pd\n",
    "import numpy as np\n",
    "# import dataframe_image as dfi\n",
    "import string\n",
    "import re\n",
    "from matplotlib import pyplot as plt\n",
    "import seaborn as sns\n",
    "from nltk.corpus import stopwords\n",
    "from nltk import FreqDist, word_tokenize\n",
    "# from nltk.tokenize import TweetTokenizer\n",
    "from nltk.stem import WordNetLemmatizer \n",
    "# from wordcloud import WordCloud, STOPWORDS\n",
    "import re,string\n",
    "import unidecode\n",
    "import html\n",
    "\n",
    "import preprocess_ddey117 as pp\n",
    "\n",
    "\n",
    "import requests\n",
    "import os\n",
    "import csv\n",
    "import urllib.request\n",
    "import gzip\n",
    "import sys\n",
    "import spacy\n",
    "import json\n",
    "# import boto3\n",
    "# from boto.s3.connection import S3Connection\n",
    "\n",
    "from collections import defaultdict\n",
    "from sklearn import cluster\n",
    "import seaborn as sns\n",
    "\n",
    "import nltk\n",
    "# nltk.download('vader_lexicon')\n",
    "\n",
    "import spacy\n",
    "nlp = spacy.load(\"en_core_web_lg\")\n",
    "\n",
    "from nltk.sentiment.vader import SentimentIntensityAnalyzer\n",
    "sid = SentimentIntensityAnalyzer()\n",
    "\n",
    "# from nltk.collocations import *\n",
    "# bigram_measures = nltk.collocations.BigramAssocMeasures()\n",
    "# trigram_measures = nltk.collocations.TrigramAssocMeasures()\n",
    "# fourgram_measures = nltk.collocations.QuadgramAssocMeasures()"
   ]
  },
  {
   "cell_type": "markdown",
   "metadata": {},
   "source": [
    "A large collection of amazon reviews that fall under the \"electronics\" category. For this project, product_id [\"B0001FTVEK\"](https://www.amazon.com/Sennheiser-RS120-Wireless-Headphones-Charging/dp/B0001FTVEK) was chosen as it had a large amount of verified reviews and a pair of headphones seemed like a reasonable choice for aspect based sentiment analysis. "
   ]
  },
  {
   "cell_type": "code",
   "execution_count": 2,
   "metadata": {},
   "outputs": [],
   "source": [
    "# df = pd.read_csv('data/df_electronics.tsv', sep='\\t')\n",
    "# df.groupby('product_id').count().sort_values(by='star_rating').tail(20)"
   ]
  },
  {
   "attachments": {
    "large_amz_tsv_output.jpg": {
     "image/jpeg": "[encoded data removed]"
    }
   },
   "cell_type": "markdown",
   "metadata": {},
   "source": [
    "![large_amz_tsv_output.jpg](attachment:large_amz_tsv_output.jpg)"
   ]
  },
  {
   "cell_type": "code",
   "execution_count": 3,
   "metadata": {},
   "outputs": [],
   "source": [
    "#testing other dataframes not shown in this notebook\n",
    "\n",
    "\n",
    "\n",
    "# df_hp1 = df.loc[df['product_id'] == 'B003EM8008'].copy()\n",
    "# df_hp1.reset_index(drop=True, inplace=True)\n",
    "# df_hp2 = df.loc[df['product_id'] == 'B0001FTVEK'].copy()\n",
    "# df_hp2.reset_index(drop=True, inplace=True)\n",
    "# df_hp3 = df.loc[df['product_id'] == 'B004RKQM8I'].copy()\n",
    "# df_hp3.reset_index(drop=True, inplace=True)\n",
    "# df_hp4 = df.loc[df['product_id'] == 'B0038W0K2K'].copy()\n",
    "# df_hp4.reset_index(drop=True, inplace=True)\n",
    "\n",
    "# df_sb1 = df.loc[df['product_id'] == 'B00D5Q75RC'].copy()\n",
    "# df_sb1.reset_index(drop=True, inplace=True)\n",
    "# df_sb2 = df.loc[df['product_id'] == 'B00F5NE2KG'].copy()\n",
    "# df_sb2.reset_index(drop=True, inplace=True)\n",
    "\n",
    "# df_mp1 = df.loc[df['product_id'] == 'B00020S7XK'].copy()\n",
    "# df_mp1.reset_index(drop=True, inplace=True)\n",
    "# df_mp2 = df.loc[df['product_id'] == 'B002MAPT7U'].copy()\n",
    "# df_mp2.reset_index(drop=True, inplace=True)\n",
    "\n",
    "# #dropping uneccessary columns \n",
    "\n",
    "# columns_td = ['marketplace', 'customer_id',  'product_id',\n",
    "#               'product_parent', 'product_title', 'product_category', \n",
    "#               'helpful_votes', 'total_votes', 'vine', 'verified_purchase',\n",
    "#               'review_headline', 'review_date']\n",
    "\n",
    "# df2.drop(columns=columns_td, inplace=True)\n",
    "\n",
    "#saving dataframe with chosen product for quick loading time\n",
    "\n",
    "# df2.to_csv('data/df_electronics_example.csv', index=False)"
   ]
  },
  {
   "cell_type": "code",
   "execution_count": 4,
   "metadata": {},
   "outputs": [
    {
     "data": {
      "text/html": [
       "<div>\n",
       "<style scoped>\n",
       "    .dataframe tbody tr th:only-of-type {\n",
       "        vertical-align: middle;\n",
       "    }\n",
       "\n",
       "    .dataframe tbody tr th {\n",
       "        vertical-align: top;\n",
       "    }\n",
       "\n",
       "    .dataframe thead th {\n",
       "        text-align: right;\n",
       "    }\n",
       "</style>\n",
       "<table border=\"1\" class=\"dataframe\">\n",
       "  <thead>\n",
       "    <tr style=\"text-align: right;\">\n",
       "      <th></th>\n",
       "      <th>review_id</th>\n",
       "      <th>star_rating</th>\n",
       "      <th>review_body</th>\n",
       "    </tr>\n",
       "  </thead>\n",
       "  <tbody>\n",
       "    <tr>\n",
       "      <th>0</th>\n",
       "      <td>R17U6AU06HR16Q</td>\n",
       "      <td>5</td>\n",
       "      <td>Great product.</td>\n",
       "    </tr>\n",
       "    <tr>\n",
       "      <th>1</th>\n",
       "      <td>R31Y01GPXH7P64</td>\n",
       "      <td>4</td>\n",
       "      <td>work great sounds amazing</td>\n",
       "    </tr>\n",
       "    <tr>\n",
       "      <th>2</th>\n",
       "      <td>RG40FO7CNWOG7</td>\n",
       "      <td>5</td>\n",
       "      <td>Works tremendously well.</td>\n",
       "    </tr>\n",
       "    <tr>\n",
       "      <th>3</th>\n",
       "      <td>R2CI6TXIGZR6RU</td>\n",
       "      <td>5</td>\n",
       "      <td>THEY WORK GREAT</td>\n",
       "    </tr>\n",
       "    <tr>\n",
       "      <th>4</th>\n",
       "      <td>R37KF8VRBUZNQD</td>\n",
       "      <td>5</td>\n",
       "      <td>Works fine</td>\n",
       "    </tr>\n",
       "  </tbody>\n",
       "</table>\n",
       "</div>"
      ],
      "text/plain": [
       "        review_id  star_rating                review_body\n",
       "0  R17U6AU06HR16Q            5             Great product.\n",
       "1  R31Y01GPXH7P64            4  work great sounds amazing\n",
       "2   RG40FO7CNWOG7            5   Works tremendously well.\n",
       "3  R2CI6TXIGZR6RU            5            THEY WORK GREAT\n",
       "4  R37KF8VRBUZNQD            5                 Works fine"
      ]
     },
     "metadata": {},
     "output_type": "display_data"
    },
    {
     "name": "stdout",
     "output_type": "stream",
     "text": [
      "\n",
      "\n",
      "star rating value counts\n"
     ]
    },
    {
     "data": {
      "text/plain": [
       "5    4715\n",
       "4    1924\n",
       "1     829\n",
       "3     724\n",
       "2     601\n",
       "Name: star_rating, dtype: int64"
      ]
     },
     "metadata": {},
     "output_type": "display_data"
    },
    {
     "data": {
      "text/plain": [
       "<AxesSubplot:>"
      ]
     },
     "metadata": {},
     "output_type": "display_data"
    },
    {
     "name": "stdout",
     "output_type": "stream",
     "text": [
      "<class 'pandas.core.frame.DataFrame'>\n",
      "RangeIndex: 8793 entries, 0 to 8792\n",
      "Data columns (total 3 columns):\n",
      " #   Column       Non-Null Count  Dtype \n",
      "---  ------       --------------  ----- \n",
      " 0   review_id    8793 non-null   object\n",
      " 1   star_rating  8793 non-null   int64 \n",
      " 2   review_body  8793 non-null   object\n",
      "dtypes: int64(1), object(2)\n",
      "memory usage: 206.2+ KB\n",
      "\n",
      "\n",
      "distribution of star rating\n"
     ]
    },
    {
     "data": {
      "image/png": "[encoded data removed]",
      "text/plain": [
       "<Figure size 432x288 with 1 Axes>"
      ]
     },
     "metadata": {
      "needs_background": "light"
     },
     "output_type": "display_data"
    }
   ],
   "source": [
    "#display important information about dataset\n",
    "#Almost 9000 reviews, mostly 4 or 5 stars.  \n",
    "\n",
    "df = pd.read_csv(\"data/df_electronics_example.csv\")\n",
    "display(df.head())\n",
    "print(\"\\n\")\n",
    "print('star rating value counts')\n",
    "display(df.star_rating.value_counts())\n",
    "display(df.star_rating.hist())\n",
    "df.info()\n",
    "print(\"\\n\")\n",
    "print(\"distribution of star rating\")"
   ]
  },
  {
   "cell_type": "markdown",
   "metadata": {},
   "source": [
    "# Function Definition"
   ]
  },
  {
   "cell_type": "code",
   "execution_count": 5,
   "metadata": {},
   "outputs": [],
   "source": [
    "#I wrote a library for taking care of many common tasks for data language processing.\n",
    "#However, since this project must load spaCy for parsing the aspect/opinion pairs\n",
    "#Some of the major processing will be handled by spaCy\n",
    "\n",
    "#simple processing such as removing emails, html tags, urls\n",
    "#accented characters and counting all words in the dataset\n",
    "#are handled with my own toolset\n",
    "\n",
    "def master_preprocess(df):\n",
    "    df['wordcounts'] = df['review_body'].apply(lambda x: pp.get_wordcounts(x))\n",
    "    df['review_body'] = df['review_body'].apply(lambda x: pp.remove_emails(x))\n",
    "    df['review_body'] = df['review_body'].apply(lambda x: pp.remove_urls(x))\n",
    "    df['review_body'] = df['review_body'].apply(lambda x: pp.remove_html_tags(x))\n",
    "    df['review_body'] = df['review_body'].apply(lambda x: pp.remove_accented_chars(x))\n",
    "    return df"
   ]
  },
  {
   "cell_type": "code",
   "execution_count": 6,
   "metadata": {},
   "outputs": [],
   "source": [
    "df = master_preprocess(df)"
   ]
  },
  {
   "cell_type": "code",
   "execution_count": 7,
   "metadata": {},
   "outputs": [
    {
     "data": {
      "text/html": [
       "<div>\n",
       "<style scoped>\n",
       "    .dataframe tbody tr th:only-of-type {\n",
       "        vertical-align: middle;\n",
       "    }\n",
       "\n",
       "    .dataframe tbody tr th {\n",
       "        vertical-align: top;\n",
       "    }\n",
       "\n",
       "    .dataframe thead th {\n",
       "        text-align: right;\n",
       "    }\n",
       "</style>\n",
       "<table border=\"1\" class=\"dataframe\">\n",
       "  <thead>\n",
       "    <tr style=\"text-align: right;\">\n",
       "      <th></th>\n",
       "      <th>star_rating</th>\n",
       "      <th>wordcounts</th>\n",
       "    </tr>\n",
       "  </thead>\n",
       "  <tbody>\n",
       "    <tr>\n",
       "      <th>count</th>\n",
       "      <td>8793.000000</td>\n",
       "      <td>8793.000000</td>\n",
       "    </tr>\n",
       "    <tr>\n",
       "      <th>mean</th>\n",
       "      <td>4.034346</td>\n",
       "      <td>74.089730</td>\n",
       "    </tr>\n",
       "    <tr>\n",
       "      <th>std</th>\n",
       "      <td>1.318899</td>\n",
       "      <td>91.416481</td>\n",
       "    </tr>\n",
       "    <tr>\n",
       "      <th>min</th>\n",
       "      <td>1.000000</td>\n",
       "      <td>1.000000</td>\n",
       "    </tr>\n",
       "    <tr>\n",
       "      <th>25%</th>\n",
       "      <td>4.000000</td>\n",
       "      <td>23.000000</td>\n",
       "    </tr>\n",
       "    <tr>\n",
       "      <th>50%</th>\n",
       "      <td>5.000000</td>\n",
       "      <td>47.000000</td>\n",
       "    </tr>\n",
       "    <tr>\n",
       "      <th>75%</th>\n",
       "      <td>5.000000</td>\n",
       "      <td>92.000000</td>\n",
       "    </tr>\n",
       "    <tr>\n",
       "      <th>max</th>\n",
       "      <td>5.000000</td>\n",
       "      <td>1565.000000</td>\n",
       "    </tr>\n",
       "  </tbody>\n",
       "</table>\n",
       "</div>"
      ],
      "text/plain": [
       "       star_rating   wordcounts\n",
       "count  8793.000000  8793.000000\n",
       "mean      4.034346    74.089730\n",
       "std       1.318899    91.416481\n",
       "min       1.000000     1.000000\n",
       "25%       4.000000    23.000000\n",
       "50%       5.000000    47.000000\n",
       "75%       5.000000    92.000000\n",
       "max       5.000000  1565.000000"
      ]
     },
     "metadata": {},
     "output_type": "display_data"
    },
    {
     "data": {
      "text/plain": [
       "651471"
      ]
     },
     "execution_count": 7,
     "metadata": {},
     "output_type": "execute_result"
    }
   ],
   "source": [
    "#Looking at the statistics for wordcounts below\n",
    "#The median length for a amazon review\n",
    "#for this particular set of headphones is about 50 words\n",
    "#ranging from 1 to 1565 words for each review\n",
    "#Thus showing the wide range of informal data that is \n",
    "#allowed in the review body and how unmanageable it can\n",
    "#become\n",
    "#With this dataset the total amount of words \n",
    "#has already reached over half of a million words\n",
    "\n",
    "\n",
    "display(df.describe())\n",
    "df.wordcounts.sum()"
   ]
  },
  {
   "cell_type": "markdown",
   "metadata": {},
   "source": [
    "## Explaining The Parser"
   ]
  },
  {
   "attachments": {
    "Modifieraspectopinion%20extractor.jpg": {
     "image/jpeg": "[encoded data removed]"
    }
   },
   "cell_type": "markdown",
   "metadata": {},
   "source": [
    "![Modifieraspectopinion%20extractor.jpg](attachment:Modifieraspectopinion%20extractor.jpg)"
   ]
  },
  {
   "cell_type": "markdown",
   "metadata": {},
   "source": [
    "\n",
    "<b><span style=\"color:Green\">Clustering and Polarity</span></b>\n",
    "\n",
    "A large number of amazon reviews produce a large number of aspect-modifier pairs. These pairs ultimately seemed to diverge to common topics, and therefore it would make sense to use machine learning to automatically figure out these categories for us. This leads to a better summation of insight from the total pool of customers who were kind enough to leave a review. Polarity scores are also averaged out of every cluster to give a quantifiable explanation to opinion to distinct categories of a given product. \n",
    "\n",
    "\n",
    "<b><span style=\"color:Blue\">Word Vectors and Clustering</span></b>\n",
    "\n",
    "In order to work with any amazon review data, first the text data must be converted into something that a machine can recognize. The most famous implementation of words vectors is the word2vec project. However, spaCy vectorization was chosen for this projec as it provides fast and easy access to over a million unique word vectors, and its multi-task CNN model is trained on 'web' data and not 'newspaper' data as in other libraries like NLTK.\n",
    "\n",
    "The word vectors were then grouped using K-Means clustering algorithm in Scikit-Learn. Other clustering algorithms such as DBSCAN  were tested. However, K-Means gave optimal results with four clusters. The clusers were labeled with input from a user after suggesting the top most common word for each cluster. "
   ]
  },
  {
   "cell_type": "markdown",
   "metadata": {},
   "source": [
    "Below Is the pipeline design for spaCy and a description for the size and sources for the model loaded to run this project and parse the amazon reviews. \n",
    "\n",
    "[en_core_web_large](https://spacy.io/models/en#en_core_web_lg)\n",
    "\n",
    "![spaCy image](images/spaCy.jpg)"
   ]
  },
  {
   "cell_type": "markdown",
   "metadata": {},
   "source": [
    "<div class=\"alert alert-block alert-danger\">\n",
    "\n",
    "\"spaCy uses the terms **head** and **child** to describe the words connected by a single arc in the dependency tree. The term **dep** is used for the arc label, which describes the type of syntactic relation that connects the child to the head. As with other attributes, the value of .dep is a hash value. You can get the string value with .dep_.\"   [Navigating The Parse Tree](https://spacy.io/usage/linguistic-features#navigating)\n",
    "\n",
    "</div>"
   ]
  },
  {
   "cell_type": "markdown",
   "metadata": {},
   "source": [
    "<div class=\"alert alert-block alert-info\">\n",
    "    \n",
    "<span style=\"color:green\"><b>First Rule of Dependency Parser:</b>  The Aspect (A) token is a subject noun with a child modifier (M) that has a relation of amod (adjectival modifier). This just means that the aspect and opinion share a simple adjective/noun relationship that can be extracted. However, there are certain caveats that need to be kept in mind when parsing the tree for this rule. </span> \n",
    "\n",
    "  \n",
    "   - <span style=\"color:green\">First, it is important to check to see if there is an additional adverbial modifier that could adjust the intensity of the sentiment implied by the adjective and adverb combination in regards to the subject/aspect. This is important to keep in mind as we are taking advantage of NLTK vader sentiment intensity analyzer which can make use of additional adverbs to get a better understanding of sentiment.</span>   \n",
    "   \n",
    "  \n",
    "   - <span style=\"color:green\">\n",
    "    Another important thing to keep in mind when parsing for this rule is to be aware of the possibility of negating the adjective with ‘no’ as a determiner. </span>\n",
    "\n",
    "                                                                \n",
    "                                                                \n",
    "                                                                \n",
    "                                                                \n",
    "</div>"
   ]
  },
  {
   "cell_type": "markdown",
   "metadata": {},
   "source": [
    "<div class=\"alert alert-block alert-warning\">\n",
    "    \n",
    "<b>First Rule Examples</b>\n",
    "\n",
    "<b>Example1:</b> The <span style=\"color:green\">comfortable</span> <span style=\"color:blue\">headphones.</span> \n",
    "\n",
    "<b>Example2:</b> The <span style=\"color:purple\">most</span> <span style=\"color:green\">comfortable</span> <span style=\"color:blue\">headphones.</span>\n",
    "\n",
    "<b>Example3:</b><span style=\"color:red\"> No</span> <span style=\"color:green\">comfortable</span> <span style=\"color:blue\">features.</span>\n",
    "\n",
    "\n",
    "- <span style=\"color:red\">det = determiner</span>\n",
    "\n",
    "- <span style=\"color:blue\">A = aspect</span>\n",
    "\n",
    "- <span style=\"color:green\">M = modifier</span>\n",
    "\n",
    "- <span style=\"color:purple\">amod = adjectival modifier</span>\n",
    "</div>\n",
    "\n"
   ]
  },
  {
   "cell_type": "markdown",
   "metadata": {},
   "source": [
    "<div class=\"alert alert-block alert-info\">\n",
    "    \n",
    "<span style=\"color:green\"><b>Second Rule of Dependency Parser:</b>  The aspect (A) is a child of something with a relation of nominal subject (nsubj.) while the modifier (M) is a child of the same something with a relationship of direct object. In this case, the adjective would be acting as the determiner of the clause. For simplicity's sake, it was determined to assume that each verb will have only one NSUBJ and DOBJ. This is a fair assumption for the application of this project, because even if there are multiple subjects, they will both be reviewing the same thing and will likely share the same opinion as it is written as a single review. For example, if an author were to say “My wife and I bought the awesome headphones”, we still only want to extract the keywords ‘awesome’ and ‘headphones.’ If this sounds confusing, hopefully the example below will help clarify. </span>                                                                 \n",
    "</div>"
   ]
  },
  {
   "cell_type": "markdown",
   "metadata": {},
   "source": [
    "<div class=\"alert alert-block alert-warning\">\n",
    "    \n",
    "<b>Second Rule Example</b>\n",
    "\n",
    "<b>Example:</b><span style=\"color:red\"> I </span>bought the <span style=\"color:green\">awesome</span> <span style=\"color:blue\">headphones.</span>\n",
    "\n",
    "\n",
    "- <span style=\"color:red\">nsubj = nominal subject</span>\n",
    "\n",
    "- <span style=\"color:blue\">dobj =headphones</span>\n",
    "\n",
    "- <span style=\"color:green\">det= awesome</span>\n",
    "\n",
    "\n",
    "</div>"
   ]
  },
  {
   "cell_type": "markdown",
   "metadata": {},
   "source": [
    "<div class=\"alert alert-block alert-info\">\n",
    "    \n",
    "<span style=\"color:green\"><b>Third Rule of Dependency Parser:</b>  The modifier (M) is a child of something with a relation of an adjectival complement (acomp), while the aspect (A) is a child of that same something with a relation of nominal subject (nsubj). </span>    \n",
    "\n",
    "   - <span style=\"color:green\">This rule needs to handle special cases in which the child is tagged as a modal verb with an auxiliary dependency. This would flag for phrases such as “the sound of the speakers could be better.” For special cases like this, the parser will add a negative prefix before scoring the aspect/modifier pairs for sentiment.</span>   \n",
    "</div>"
   ]
  },
  {
   "cell_type": "markdown",
   "metadata": {},
   "source": [
    "<div class=\"alert alert-block alert-warning\">\n",
    "    \n",
    "<b>Third Rule Examples</b>\n",
    "\n",
    "<b>Example1:</b> Barb is <span style=\"color:green\">happy</span> about the <span style=\"color:blue\">sound quality.</span> \n",
    "\n",
    "<b>Example2:</b> <span style=\"color:blue\">This</span><span style=\"color:green\"> could be better.</span>\n",
    "\n",
    "Example2 would be extracted as A= \"this\" and M= \"not better\"\n",
    "\n",
    "\n",
    "- <span style=\"color:blue\">A = aspect</span>\n",
    "\n",
    "- <span style=\"color:green\">M = modifier</span>\n",
    "\n",
    "\n",
    "</div>\n"
   ]
  },
  {
   "cell_type": "markdown",
   "metadata": {},
   "source": [
    "<div class=\"alert alert-block alert-info\">\n",
    "    \n",
    "<span style=\"color:green\"><b>Fourth Rule of Dependency Parser:</b>  The aspect (A) is a child of something with a relationship of passive nominal subject (nsubjpass) while the modifier (M) is a child of that same something with a relationship of adverbial modifier (advmod). In other words, the modifier is an adverbial modifier to a passive verb. </span>    \n",
    "\n",
    "   - <span style=\"color:green\"> nsubjpass: A passive nominal subject is a noun phrase which is the syntactic subject of a passive clause. </span>  \n",
    "   \n",
    "   - <span style=\"color:green\"> This step of the parser will also check to add a negative prefix before extracting and scoring for sentiment if necessary </span>\n",
    "  \n",
    "  \n",
    "</div>\n"
   ]
  },
  {
   "cell_type": "markdown",
   "metadata": {},
   "source": [
    "<div class=\"alert alert-block alert-warning\">\n",
    "    \n",
    "<b>Fourth Rule Examples</b>\n",
    "\n",
    "<b>Example1:</b> The <span style=\"color:blue\">headphones</span> died <span style=\"color:green\">quickly.</span> \n",
    "\n",
    "\n",
    "\n",
    "- <span style=\"color:blue\">A = aspect</span>\n",
    "\n",
    "- <span style=\"color:green\">M = modifier</span>"
   ]
  },
  {
   "cell_type": "markdown",
   "metadata": {},
   "source": [
    "<div class=\"alert alert-block alert-info\">\n",
    "    \n",
    "<span style=\"color:green\"><b>Fifth Rule of Dependency Parser:</b>  The aspect (A) is a child of the modifier with a relationship of nominal subject, while the modifier has a child with a relation of copula(cop).\n",
    "Here the parser is looking for the complement of a copular verb. An often used copula verb is the word “is,” as in the phrase “Bill is big.\" </span>    \n",
    "\n",
    "   - <span style=\"color:green\"> Assumption - A verb will have only one NSUBJ and DOBJ </span>  \n",
    "   \n",
    "   - <span style=\"color:green\"> cop: copula A copula is the relation between the complement of a copular verb and the copular verb. (We normally take a copula as a dependent of its complement. </span>\n",
    "  \n",
    "  \n",
    "</div>"
   ]
  },
  {
   "cell_type": "markdown",
   "metadata": {},
   "source": [
    "<div class=\"alert alert-block alert-warning\">\n",
    "    \n",
    "<b>Fifth Rule Example</b>\n",
    "\n",
    "<b>Example1:</b> The <span style=\"color:blue\">sound</span> is <span style=\"color:green\">awesome.</span> \n",
    "\n",
    "\n",
    "\n",
    "- <span style=\"color:blue\">A = aspect</span>\n",
    "\n",
    "- <span style=\"color:green\">M = modifier</span>"
   ]
  },
  {
   "cell_type": "markdown",
   "metadata": {},
   "source": [
    "<div class=\"alert alert-block alert-info\">\n",
    "    \n",
    "<span style=\"color:green\"><b>Sixth Rule of Dependency Parser:</b>  Aspect/modifier are children of an interjection </span>    \n",
    "\n",
    "   - <span style=\"color:green\"> NTJ (interjections like bravo, great etc)</span>  \n",
    "   \n",
    " \n",
    "</div>"
   ]
  },
  {
   "cell_type": "markdown",
   "metadata": {},
   "source": [
    "<div class=\"alert alert-block alert-warning\">\n",
    "    \n",
    "<b>Sixth Rule Example</b>\n",
    "\n",
    "<b>Example1:</b> <span style=\"color:green\">Bravo,</span> <span style=\"color:blue\">headphones.</span> \n",
    "\n",
    "\n",
    "\n",
    "- <span style=\"color:blue\">A = aspect</span>\n",
    "\n",
    "- <span style=\"color:green\">M = modifier</span>"
   ]
  },
  {
   "cell_type": "markdown",
   "metadata": {},
   "source": [
    "<div class=\"alert alert-block alert-info\">\n",
    "    \n",
    "<span style=\"color:green\"><b>Seventh Rule of Dependency Parser:</b>  This rule is similar to rule 5, but makes use of the attr (attribute) tag instead. It seems to function similarly, in which an attribute is considered a noun phrase following a copular verb </span>    \n",
    "\n",
    "   - <span style=\"color:green\"> ATTR - link between a verb like 'is/seem/appear/became' and its complement</span>  \n",
    "  \n",
    "</div>"
   ]
  },
  {
   "cell_type": "markdown",
   "metadata": {},
   "source": [
    "<div class=\"alert alert-block alert-warning\">\n",
    "    \n",
    "<b>Seventh Rule Example</b>\n",
    "\n",
    "<b>Example1:</b> <span style=\"color:blue\">This</span> is <span style=\"color:green\">garbage.</span> \n",
    "\n",
    "\n",
    "\n",
    "- <span style=\"color:blue\">A = aspect</span>\n",
    "\n",
    "- <span style=\"color:green\">M = modifier</span>"
   ]
  },
  {
   "cell_type": "markdown",
   "metadata": {},
   "source": [
    "<div class=\"alert alert-block alert-danger\">\n",
    "<b>For all Parsing:</b> SpaCy has a large library of named entities it can recoginize and tag. This logic is added for each step in the model.\n",
    "</div>"
   ]
  },
  {
   "cell_type": "code",
   "execution_count": 8,
   "metadata": {},
   "outputs": [
    {
     "data": {
      "text/plain": [
       "'adjectival complement'"
      ]
     },
     "execution_count": 8,
     "metadata": {},
     "output_type": "execute_result"
    }
   ],
   "source": [
    "spacy.explain('acomp')"
   ]
  },
  {
   "cell_type": "markdown",
   "metadata": {},
   "source": [
    "Please feel free to review the following sections above under the spaCy documentation for pos_tagging if you would like to get an understanding of how the parser was designed in spaCy. Each link should be a direct link to the appropriate topic.\n",
    "\n",
    "[Dependecy Parsing with spaCy](https://spacy.io/usage/linguistic-features#dependency-parse)\n",
    " \n",
    "\n",
    "[Navigating The Tree](https://spacy.io/usage/linguistic-features#navigating)\n",
    "\n",
    "[Named Entity Recognition](https://spacy.io/usage/linguistic-features#named-entities)\n",
    "\n",
    "\n",
    "Hutto, C.J. & Gilbert, E.E. (2014). VADER: A Parsimonious Rule-based Model for Sentiment Analysis of Social Media Text. Eighth International Conference on Weblogs and Social Media (ICWSM-14). Ann Arbor, MI, June 2014.\n",
    "\n",
    "[VADER sentiment](https://www.researchgate.net/publication/275828927_VADER_A_Parsimonious_Rule-based_Model_for_Sentiment_Analysis_of_Social_Media_Text)\n",
    "\n",
    "The reasearch paper was published on release of the VADER intensity sentiment analyzer. Please feel free to read to get a better understanding of how this tool was developed before being taken advantage of in this project."
   ]
  },
  {
   "cell_type": "markdown",
   "metadata": {},
   "source": [
    "### Detecting Product Aspects"
   ]
  },
  {
   "cell_type": "code",
   "execution_count": 9,
   "metadata": {},
   "outputs": [
    {
     "data": {
      "text/plain": [
       "'nominal subject (passive)'"
      ]
     },
     "metadata": {},
     "output_type": "display_data"
    },
    {
     "data": {
      "text/plain": [
       "'copula'"
      ]
     },
     "metadata": {},
     "output_type": "display_data"
    },
    {
     "data": {
      "text/plain": [
       "'interjection'"
      ]
     },
     "metadata": {},
     "output_type": "display_data"
    },
    {
     "data": {
      "text/plain": [
       "'attribute'"
      ]
     },
     "execution_count": 9,
     "metadata": {},
     "output_type": "execute_result"
    }
   ],
   "source": [
    "display(spacy.explain('nsubjpass'))\n",
    "display(spacy.explain('cop'))\n",
    "display(spacy.explain('INTJ'))\n",
    "spacy.explain('attr')"
   ]
  },
  {
   "cell_type": "markdown",
   "metadata": {},
   "source": [
    "TABLE OF REFERENCE:\n",
    "<dl>\n",
    "<dt>AMOD</dt>\n",
    "<dd>adjectival modifier</dd>\n",
    "    \n",
    "<dt>ADVMOD</dt>\n",
    "<dd>adverbial modifier </dd>\n",
    "<dd>example: Genetically Modified Food, Less often</dd>\n",
    "\n",
    "<dt>NSUBJ</dt>\n",
    "<dd>\"Nominal subject (nsubj) is a nominal which is the syntactic subject and the proto-agent of a clause. That is, it is in the position that passes typical grammatical test for subjecthood, and this argument is the more agentive, the do-er, or the proto-agent of the clause. This nominal may be headed by a noun, or it may be a pronoun or relative pronoun or, in ellipsis contexts, other things such as an adjective.\" Taken from the documentation.</dd>\n",
    "<dd>example: Genetically Modified Food, Less often</dd>\n",
    "\n",
    "<dt>DOBJ</dt>\n",
    "<dd>The direct object of a VP is the noun phrase which is the (accusative) object of the verb</dd>\n",
    "\n",
    "<dt>DET</dt>\n",
    "<dd> Determiner. \"The English DET covers most cases of Penn Treebank DT, PDT, WDT. However, when a Penn Treebank word with one of these tags stands alone as a noun phrase rather than modifying another word, then it becomes PRON.\" Taken from the documentation. \n",
    " </dd>\n",
    "\n",
    "<dt>ACOMP</dt>\n",
    "<dd> Adjective complement. A phrase that modifies an adjective.\n",
    " </dd>\n",
    "\n",
    "<dt>cop</dt>\n",
    "<dd>\"A cop (copula) is the relation of a function word used to link a subject to a nonverbal predicate, including the expression of identity predication (e.g. sentences like “Kim is the President”). It is often a verb but nonverbal (pronominal) copulas are also frequent in the world’s languages. Verbal copulas are tagged AUX, not VERB. Pronominal copulas are tagged PRON or DET.\" From the documentation.\n",
    " </dd>\n",
    "\n",
    "<dt>INTJ</dt>\n",
    "<dd> interjection. An interjection is a word that is used most often as an exclamation or part of an exclamation. \n",
    "</dd>\n",
    "\n",
    "</dl>"
   ]
  },
  {
   "cell_type": "code",
   "execution_count": 34,
   "metadata": {},
   "outputs": [],
   "source": [
    "def apply_extraction(row,nlp=nlp,sid=sid):\n",
    "    review_body = row['review_body']\n",
    "#     review_id = row['review_id']\n",
    "#     review_marketplace = row['marketplace']\n",
    "#     customer_id = row['customer_id']\n",
    "#     product_id = row['product_id']\n",
    "#     product_parent = row['product_parent']\n",
    "#     product_title = row['product_title']\n",
    "#     product_category = row['product_category']\n",
    "#     date = str(row['review_date'])\n",
    "#     star_rating = row['star_rating']\n",
    "#     url = add_amazonlink(product_id)\n",
    "\n",
    "\n",
    "\n",
    "    doc=nlp(review_body)\n",
    "\n",
    "\n",
    "    ## FIRST RULE OF DEPENDANCY PARSE -\n",
    "    ## M - Sentiment modifier || A - Aspect\n",
    "    ## RULE = M is child of A with a relationshion of amod(adjectival modifier)\n",
    "    ner_heads = {ent.root.idx: ent for ent in doc.ents}\n",
    "    rule1_pairs = []\n",
    "    for token in doc:\n",
    "        A = \"999999\"\n",
    "        M = \"999999\"\n",
    "        if token.dep_ == \"amod\" and not token.is_stop:\n",
    "            M = token.text\n",
    "            if token.head in ner_heads:\n",
    "                A = ner_heads[token.head].text\n",
    "            else:\n",
    "                A = token.head.text\n",
    "\n",
    "            # add adverbial modifier of adjective (e.g. '*most* comfortable headphones')\n",
    "            M_children = token.children\n",
    "            for child_m in M_children:\n",
    "                if(child_m.dep_ == \"advmod\"):\n",
    "                    M_hash = child_m.text\n",
    "                    M = M_hash + \" \" + M\n",
    "                    break\n",
    "\n",
    "            # negation in adjective, the \"no\" keyword is a 'det' of the noun (e.g. *no* interesting characters)\n",
    "            A_children = token.head.children\n",
    "            for child_a in A_children:\n",
    "                if(child_a.dep_ == \"det\" and child_a.text == 'no'):\n",
    "                    neg_prefix = 'not'\n",
    "                    M = neg_prefix + \" \" + M\n",
    "                    break\n",
    "\n",
    "        if(A != \"999999\" and M != \"999999\"):\n",
    "            rule1_pairs.append((A, M,sid.polarity_scores(token.text)['compound'],1))\n",
    "\n",
    "    ## SECOND RULE OF DEPENDANCY PARSE -\n",
    "    ## M - Sentiment modifier || A - Aspect\n",
    "    #Direct Object - A is a child of something with relationship of nsubj, while\n",
    "    # M is a child of the same something with relationship of dobj\n",
    "    #Assumption - A verb will have only one NSUBJ and DOBJ\n",
    "#     ner_heads = {ent.root.idx: ent for ent in doc.ents}\n",
    "    rule2_pairs = []\n",
    "    for token in doc:\n",
    "        children = token.children\n",
    "        A = \"999999\"\n",
    "        M = \"999999\"\n",
    "        add_neg_pfx = False\n",
    "        for child in children :\n",
    "            if(child.dep_ == \"nsubj\" and not child.is_stop):\n",
    "                if child.idx in ner_heads:\n",
    "                    A = ner_heads[child.idx].text\n",
    "                else:\n",
    "                    A = child.text\n",
    "                # check_spelling(child.text)\n",
    "\n",
    "            if((child.dep_ == \"dobj\" and child.pos_ == \"ADJ\") and not child.is_stop):\n",
    "                M = child.text\n",
    "                #check_spelling(child.text)\n",
    "\n",
    "            if(child.dep_ == \"neg\"):\n",
    "                neg_prefix = child.text\n",
    "                add_neg_pfx = True\n",
    "\n",
    "    if (add_neg_pfx and M != \"999999\"):\n",
    "        M = neg_prefix + \" \" + M\n",
    "\n",
    "        if(A != \"999999\" and M != \"999999\"):\n",
    "            rule2_pairs.append((A, M,sid.polarity_scores(M)['compound'],2))\n",
    "\n",
    "\n",
    "    ## THIRD RULE OF DEPENDANCY PARSE -\n",
    "    ## M - Sentiment modifier || A - Aspect\n",
    "    ## Adjectival Complement - A is a child of something with relationship of nsubj, while\n",
    "    ## M is a child of the same something with relationship of acomp\n",
    "    ## Assumption - A verb will have only one NSUBJ and DOBJ\n",
    "    ## \"The sound of the speakers would be better. The sound of the speakers could be better\" - handled using AUX dependency\n",
    "\n",
    "\n",
    "    rule3_pairs = []\n",
    "\n",
    "    for token in doc:\n",
    "\n",
    "        children = token.children\n",
    "        A = \"999999\"\n",
    "        M = \"999999\"\n",
    "        add_neg_pfx = False\n",
    "        for child in children :\n",
    "            if(child.dep_ == \"nsubj\" and not child.is_stop):\n",
    "                if child.idx in ner_heads:\n",
    "                    A = ner_heads[child.idx].text\n",
    "                else:\n",
    "                    A = child.text\n",
    "                # check_spelling(child.text)\n",
    "\n",
    "            if(child.dep_ == \"acomp\" and not child.is_stop):\n",
    "                M = child.text\n",
    "\n",
    "            # example - 'this could have been better' -> (this, not better)\n",
    "            if(child.dep_ == \"aux\" and child.tag_ == \"MD\"):\n",
    "                neg_prefix = \"not\"\n",
    "                add_neg_pfx = True\n",
    "\n",
    "            if(child.dep_ == \"neg\"):\n",
    "                neg_prefix = child.text\n",
    "                add_neg_pfx = True\n",
    "\n",
    "        if (add_neg_pfx and M != \"999999\"):\n",
    "            M = neg_prefix + \" \" + M\n",
    "                #check_spelling(child.text)\n",
    "\n",
    "        if(A != \"999999\" and M != \"999999\"):\n",
    "            rule3_pairs.append((A, M, sid.polarity_scores(M)['compound'],3))\n",
    "\n",
    "    ## FOURTH RULE OF DEPENDENCY PARSE -\n",
    "    ## M - Sentiment modifier || A - Aspect\n",
    "\n",
    "    #Adverbial modifier to a passive verb - A is a child of something with relationship of nsubjpass, while\n",
    "    # M is a child of the same something with relationship of advmod\n",
    "\n",
    "    #Assumption - A verb will have only one NSUBJ and DOBJ\n",
    "\n",
    "    rule4_pairs = []\n",
    "    for token in doc:\n",
    "\n",
    "\n",
    "        children = token.children\n",
    "        A = \"999999\"\n",
    "        M = \"999999\"\n",
    "        add_neg_pfx = False\n",
    "        for child in children :\n",
    "            if((child.dep_ == \"nsubjpass\" or child.dep_ == \"nsubj\") and not child.is_stop):\n",
    "                if child.idx in ner_heads:\n",
    "                    A = ner_heads[child.idx].text\n",
    "                else:\n",
    "                    A = child.text\n",
    "                # check_spelling(child.text)\n",
    "\n",
    "            if(child.dep_ == \"advmod\" and not child.is_stop):\n",
    "                M = child.text\n",
    "                M_children = child.children\n",
    "                for child_m in M_children:\n",
    "                    if(child_m.dep_ == \"advmod\"):\n",
    "                        M_hash = child_m.text\n",
    "                        M = M_hash + \" \" + child.text\n",
    "                        break\n",
    "                #check_spelling(child.text)\n",
    "\n",
    "            if(child.dep_ == \"neg\"):\n",
    "                neg_prefix = child.text\n",
    "                add_neg_pfx = True\n",
    "\n",
    "        if (add_neg_pfx and M != \"999999\"):\n",
    "            M = neg_prefix + \" \" + M\n",
    "\n",
    "        if(A != \"999999\" and M != \"999999\"):\n",
    "            rule4_pairs.append((A, M,sid.polarity_scores(M)['compound'],4)) # )\n",
    "\n",
    "\n",
    "    ## FIFTH RULE OF DEPENDANCY PARSE -\n",
    "    ## M - Sentiment modifier || A - Aspect\n",
    "\n",
    "    #Complement of a copular verb - A is a child of M with relationship of nsubj, while\n",
    "    # M has a child with relationship of cop\n",
    "\n",
    "    #Assumption - A verb will have only one NSUBJ and DOBJ\n",
    "\n",
    "    rule5_pairs = []\n",
    "    for token in doc:\n",
    "        children = token.children\n",
    "        A = \"999999\"\n",
    "        buf_var = \"999999\"\n",
    "        for child in children :\n",
    "            if(child.dep_ == \"nsubj\" and not child.is_stop):\n",
    "                if child.idx in ner_heads:\n",
    "                    A = ner_heads[child.idx].text\n",
    "                else:\n",
    "                    A = child.text\n",
    "                \n",
    "                # check_spelling(child.text)\n",
    "\n",
    "            if(child.dep_ == \"cop\" and not child.is_stop):\n",
    "                buf_var = child.text\n",
    "                #check_spelling(child.text)\n",
    "\n",
    "        if(A != \"999999\" and buf_var != \"999999\"):\n",
    "            rule5_pairs.append((A, token.text,sid.polarity_scores(token.text)['compound'],5))\n",
    "\n",
    "\n",
    "    ## SIXTH RULE OF DEPENDENCY PARSE -\n",
    "    ## M - Sentiment modifier || A - Aspect\n",
    "    ## INTJ (interjections like bravo, great etc)\n",
    "\n",
    "\n",
    "    rule6_pairs = []\n",
    "    for token in doc:\n",
    "        children = token.children\n",
    "        A = \"999999\"\n",
    "        M = \"999999\"\n",
    "        if(token.pos_ == \"INTJ\" and not token.is_stop):\n",
    "            for child in children :\n",
    "                if(child.dep_ == \"nsubj\" and not child.is_stop):\n",
    "                    M = token.text\n",
    "                    if child.idx in ner_heads:\n",
    "                        A = ner_heads[child.idx].text\n",
    "                    else:\n",
    "                        A = child.text\n",
    "                    # check_spelling(child.text)\n",
    "\n",
    "        if(A != \"999999\" and M != \"999999\"):\n",
    "            rule6_pairs.append((A, M,sid.polarity_scores(M)['compound'],6))\n",
    "\n",
    "\n",
    "    ## SEVENTH RULE OF DEPENDENCY PARSE -\n",
    "    ## M - Sentiment modifier || A - Aspect\n",
    "    ## ATTR - link between a verb like 'be/seem/appear' and its complement\n",
    "    ## Example: 'this is garbage' -> (this, garbage)\n",
    "\n",
    "    rule7_pairs = []\n",
    "    for token in doc:\n",
    "        children = token.children\n",
    "        A = \"999999\"\n",
    "        M = \"999999\"\n",
    "        add_neg_pfx = False\n",
    "        for child in children :\n",
    "            if(child.dep_ == \"nsubj\" and not child.is_stop):\n",
    "                if child.idx in ner_heads:\n",
    "                    A = ner_heads[child.idx].text\n",
    "                else:\n",
    "                    A = child.text\n",
    "                # check_spelling(child.text)\n",
    "\n",
    "            if((child.dep_ == \"attr\") and not child.is_stop):\n",
    "                M = child.text\n",
    "                #check_spelling(child.text)\n",
    "\n",
    "            if(child.dep_ == \"neg\"):\n",
    "                neg_prefix = child.text\n",
    "                add_neg_pfx = True\n",
    "\n",
    "        if (add_neg_pfx and M != \"999999\"):\n",
    "            M = neg_prefix + \" \" + M\n",
    "\n",
    "        if(A != \"999999\" and M != \"999999\"):\n",
    "            rule7_pairs.append((A, M,sid.polarity_scores(M)['compound'],7))\n",
    "\n",
    "\n",
    "\n",
    "    aspects = []\n",
    "\n",
    "    aspects = rule1_pairs + rule2_pairs + rule3_pairs +rule4_pairs +rule5_pairs + rule6_pairs + rule7_pairs\n",
    "    prod_pronouns = ['it', 'this', 'they']\n",
    "\n",
    "    # replace all instances of \"it\", \"this\" and \"they\" with \"product\"\n",
    "    aspects = [(A,M,P,r) if A not in prod_pronouns else (\"product\",M,P,r) for A,M,P,r in aspects]\n",
    "\n",
    "#     dic = {\"review_id\" : review_id , \"aspect_pairs\" : aspects, \"review_marketplace\" : review_marketplace\n",
    "#     , \"customer_id\" : customer_id, \"product_id\" : product_id, \"product_parent\" : product_parent,\n",
    "#     \"product_title\" : product_title, \"product_category\" : product_category, \"date\" : date, \"star_rating\" : star_rating, \"url\" : url}\n",
    "    \n",
    "    \n",
    "    return aspects\n",
    "\n",
    "\n",
    "\n",
    "def remove_digits(x):\n",
    "    return \" \".join([t for t in x.split() if not t.isdigit()])\n",
    "\n",
    "\n",
    "\n",
    "def get_word_vectors(unique_aspects, nlp=nlp):\n",
    "    asp_vectors = []\n",
    "    for aspect in unique_aspects:\n",
    "        # print(aspect)\n",
    "        token = nlp(aspect)\n",
    "        asp_vectors.append(token.vector)\n",
    "    return asp_vectors\n",
    "\n",
    "\n",
    "def get_aspect_freq_map(aspects):\n",
    "    aspect_freq_map = defaultdict(int)\n",
    "    for asp in aspects:\n",
    "        aspect_freq_map[asp] += 1\n",
    "    return aspect_freq_map\n",
    "\n",
    "\n",
    "\n",
    "NUM_CLUSTERS = 4\n",
    "\n",
    "def get_word_cluster_labels(unique_aspects, nlp=nlp):\n",
    "    # print(\"Found {} unique aspects for this product\".format(len(unique_aspects)))\n",
    "    asp_vectors = get_word_vectors(unique_aspects, nlp)\n",
    "    # n_clusters = min(NUM_CLUSTERS,len(unique_aspects))\n",
    "    if len(unique_aspects) <= NUM_CLUSTERS:\n",
    "        # print(\"Too few aspects ({}) found. No clustering required...\".format(len(unique_aspects)))\n",
    "        return list(range(len(unique_aspects)))\n",
    "\n",
    "    # print(\"Running k-means clustering...\")\n",
    "    n_clusters = NUM_CLUSTERS\n",
    "    kmeans = cluster.KMeans(n_clusters=n_clusters)\n",
    "    kmeans.fit(asp_vectors)\n",
    "    labels = kmeans.labels_\n",
    "    # dbscan = cluster.DBSCAN(eps = 0.2, min_samples = 2).fit(asp_vectors)\n",
    "    # labels = dbscan.labels_\n",
    "\n",
    "    # print(\"Finished running k-means clustering with {} labels\".format(len(labels)))\n",
    "    # print(labels)\n",
    "    return labels\n",
    "\n",
    "\n",
    "\n",
    "def get_cluster_names_map(asp_to_cluster_map, aspect_freq_map):\n",
    "    cluster_id_to_name_map = defaultdict()\n",
    "    # cluster_to_asp_map = defaultdict()\n",
    "    clusters = set(asp_to_cluster_map.values())\n",
    "    for i in clusters:\n",
    "        this_cluster_asp = [k for k,v in asp_to_cluster_map.items() if v == i]\n",
    "        filt_freq_map = {k:v for k,v in aspect_freq_map.items() if k in this_cluster_asp}\n",
    "        filt_freq_map = sorted(filt_freq_map.items(), key = lambda x: x[1], reverse = True)\n",
    "        cluster_id_to_name_map[i] = filt_freq_map\n",
    "\n",
    "        # cluster_to_asp_map[i] = this_cluster_asp\n",
    "\n",
    "    # print(cluster_to_asp_map)\n",
    "    # print(cluster_id_to_name_map)\n",
    "    return cluster_id_to_name_map\n",
    "\n",
    "\n",
    "\n",
    "#Two master functions below for applying above functions\n",
    "\n",
    "\n",
    "def extract_aspect_sentiment_tuples(df):\n",
    "    df = master_preprocess(df)\n",
    "    df = df.loc[df['wordcounts'] > 10].copy()\n",
    "    df.reset_index(drop=True, inplace=True)\n",
    "    df['aspect_tups'] = df.apply(apply_extraction, axis=1)\n",
    "    df = df.explode('aspect_tups').copy()\n",
    "    df.dropna(inplace=True)\n",
    "    df['asp'] = df['aspect_tups'].apply(lambda x: x[0])\n",
    "    df['modifier'] = df['aspect_tups'].apply(lambda x: x[1])\n",
    "    df['modifier_sentiment'] = df['aspect_tups'].apply(lambda x: x[2])\n",
    "    df['rule_number'] = df['aspect_tups'].apply(lambda x: x[3])\n",
    "    return df\n",
    "\n",
    "\n",
    "#This function will work with input from user\n",
    "#to find best possible label name for clusters\n",
    "def get_cluster_name_inputs(df):\n",
    "    print('loading....')\n",
    "    aspect_freq_map = get_aspect_freq_map(df['asp'].values)\n",
    "    unique_asp_array = df['asp'].unique()\n",
    "    mapped_labels = get_word_cluster_labels(unique_asp_array)\n",
    "    asp_labels_map = dict(zip(unique_asp_array, mapped_labels))\n",
    "    label_names_map = get_cluster_names_map(asp_labels_map, aspect_freq_map)\n",
    "    \n",
    "    df['asp_cluster_label'] = df['asp'].map(asp_labels_map)\n",
    "    \n",
    "    print(\"write misc if low counts and special characters\")\n",
    "    print(\"the top word is usually the best fit\")\n",
    "   \n",
    "    display(label_names_map[0][:10])\n",
    "    print(\"Pick a category for above words: \")\n",
    "    clust_0 = input()\n",
    "\n",
    "    display(label_names_map[1][:10])\n",
    "    print(\"Pick a category for above words: \")\n",
    "    clust_1 = input()\n",
    "\n",
    "    display(label_names_map[2][:10])\n",
    "  \n",
    "    print(\"Pick a category for above words: \")\n",
    "    clust_2 = input()\n",
    "\n",
    "    display(label_names_map[3][:10])\n",
    "    print(\"Pick a category for above words: \")\n",
    "    clust_3 = input()\n",
    "\n",
    "    clusters = [clust_0] + [clust_1] + [clust_2] + [clust_3]\n",
    "\n",
    "\n",
    "    name_clust_dict = {0: clusters[0],\n",
    "                       1: clusters[1],\n",
    "                       2: clusters[2],\n",
    "                       3: clusters[3]\n",
    "                      }\n",
    "\n",
    "    \n",
    "\n",
    "    df['cluster_name'] = df['asp_cluster_label'].map(name_clust_dict)\n",
    "    \n",
    "    fig = plt.figure(figsize=(10,8))\n",
    "   \n",
    "    df_senti.groupby(by='cluster_name')['modifier_sentiment'].sum().plot.bar();\n",
    "    \n",
    "    plt.title(\"Clustered Aspect Sentiment Totals\")\n",
    "    plt.xticks(rotation=45)\n",
    "    plt.ylabel(\"Summation of Total Sentiment from Reviews\")\n",
    "    plt.savefig('images/extractor_example1.jpg')\n",
    "    \n",
    "    return df\n",
    "\n",
    "\n",
    "\n",
    "\n",
    "#function for visualizing variance in opinion for the same\n",
    "#opinion/aspect couple among voters\n",
    "\n",
    "def variance_visualizer(df, tup):\n",
    "    graph_s = df[df['tup_pair'] == tup]['sentiment'].value_counts()\n",
    "    fig = plt.figure(figsize=(8,6))\n",
    "\n",
    "\n",
    "    ax = graph_s.plot.barh()\n",
    "\n",
    "    #ADD TOTAL NUMBER OF VOTES\n",
    "    fig.text(0.9, \n",
    "             0.9,\n",
    "             s=f'Total Votes: {(graph_s.sum())} \\n tuple: {tup}',\n",
    "             ha='center', \n",
    "             va='center',\n",
    "             transform=ax.transAxes,\n",
    "             size=12\n",
    "            )\n",
    "    \n",
    "    plt.savefig('images/variance_graph_example.jpg');\n",
    "    \n",
    "\n",
    "    \n",
    "    \n",
    "#function for visualizing variance in opinion for the same\n",
    "#opinion/aspect couple among voters\n",
    "\n",
    "def sum_squares(df, tup):\n",
    "    s = df[df['tup_pair'] == tup]['sentiment'].value_counts()\n",
    "#     print(f'{tup} Residual sum of squares: {(np.sum((s-s.mean())**2))}')\n",
    "    sum_s = np.sum((s-s.mean())**2)\n",
    "    return(tup,sum_s) "
   ]
  },
  {
   "cell_type": "markdown",
   "metadata": {},
   "source": [
    "## Running The Extractor "
   ]
  },
  {
   "cell_type": "code",
   "execution_count": 12,
   "metadata": {},
   "outputs": [
    {
     "data": {
      "text/html": [
       "<div>\n",
       "<style scoped>\n",
       "    .dataframe tbody tr th:only-of-type {\n",
       "        vertical-align: middle;\n",
       "    }\n",
       "\n",
       "    .dataframe tbody tr th {\n",
       "        vertical-align: top;\n",
       "    }\n",
       "\n",
       "    .dataframe thead th {\n",
       "        text-align: right;\n",
       "    }\n",
       "</style>\n",
       "<table border=\"1\" class=\"dataframe\">\n",
       "  <thead>\n",
       "    <tr style=\"text-align: right;\">\n",
       "      <th></th>\n",
       "      <th>review_id</th>\n",
       "      <th>star_rating</th>\n",
       "      <th>review_body</th>\n",
       "      <th>wordcounts</th>\n",
       "      <th>aspect_tups</th>\n",
       "      <th>asp</th>\n",
       "      <th>modifier</th>\n",
       "      <th>modifier_sentiment</th>\n",
       "      <th>rule_number</th>\n",
       "    </tr>\n",
       "  </thead>\n",
       "  <tbody>\n",
       "    <tr>\n",
       "      <th>0</th>\n",
       "      <td>RA8R84N9JMZLD</td>\n",
       "      <td>3</td>\n",
       "      <td>My Dad loves this, only issue is charging, it ...</td>\n",
       "      <td>32</td>\n",
       "      <td>(connection, proper, 0.0, 1)</td>\n",
       "      <td>connection</td>\n",
       "      <td>proper</td>\n",
       "      <td>0.0000</td>\n",
       "      <td>1</td>\n",
       "    </tr>\n",
       "    <tr>\n",
       "      <th>2</th>\n",
       "      <td>R1KL6IIDB77A2O</td>\n",
       "      <td>4</td>\n",
       "      <td>I would not have paid the original price for t...</td>\n",
       "      <td>58</td>\n",
       "      <td>(price, original, 0.3182, 1)</td>\n",
       "      <td>price</td>\n",
       "      <td>original</td>\n",
       "      <td>0.3182</td>\n",
       "      <td>1</td>\n",
       "    </tr>\n",
       "    <tr>\n",
       "      <th>2</th>\n",
       "      <td>R1KL6IIDB77A2O</td>\n",
       "      <td>4</td>\n",
       "      <td>I would not have paid the original price for t...</td>\n",
       "      <td>58</td>\n",
       "      <td>(bit, little, 0.0, 1)</td>\n",
       "      <td>bit</td>\n",
       "      <td>little</td>\n",
       "      <td>0.0000</td>\n",
       "      <td>1</td>\n",
       "    </tr>\n",
       "    <tr>\n",
       "      <th>2</th>\n",
       "      <td>R1KL6IIDB77A2O</td>\n",
       "      <td>4</td>\n",
       "      <td>I would not have paid the original price for t...</td>\n",
       "      <td>58</td>\n",
       "      <td>(star, how durable, 0.0, 1)</td>\n",
       "      <td>star</td>\n",
       "      <td>how durable</td>\n",
       "      <td>0.0000</td>\n",
       "      <td>1</td>\n",
       "    </tr>\n",
       "    <tr>\n",
       "      <th>2</th>\n",
       "      <td>R1KL6IIDB77A2O</td>\n",
       "      <td>4</td>\n",
       "      <td>I would not have paid the original price for t...</td>\n",
       "      <td>58</td>\n",
       "      <td>(price, lower, -0.296, 1)</td>\n",
       "      <td>price</td>\n",
       "      <td>lower</td>\n",
       "      <td>-0.2960</td>\n",
       "      <td>1</td>\n",
       "    </tr>\n",
       "  </tbody>\n",
       "</table>\n",
       "</div>"
      ],
      "text/plain": [
       "        review_id  star_rating  \\\n",
       "0   RA8R84N9JMZLD            3   \n",
       "2  R1KL6IIDB77A2O            4   \n",
       "2  R1KL6IIDB77A2O            4   \n",
       "2  R1KL6IIDB77A2O            4   \n",
       "2  R1KL6IIDB77A2O            4   \n",
       "\n",
       "                                         review_body  wordcounts  \\\n",
       "0  My Dad loves this, only issue is charging, it ...          32   \n",
       "2  I would not have paid the original price for t...          58   \n",
       "2  I would not have paid the original price for t...          58   \n",
       "2  I would not have paid the original price for t...          58   \n",
       "2  I would not have paid the original price for t...          58   \n",
       "\n",
       "                    aspect_tups         asp     modifier  modifier_sentiment  \\\n",
       "0  (connection, proper, 0.0, 1)  connection       proper              0.0000   \n",
       "2  (price, original, 0.3182, 1)       price     original              0.3182   \n",
       "2         (bit, little, 0.0, 1)         bit       little              0.0000   \n",
       "2   (star, how durable, 0.0, 1)        star  how durable              0.0000   \n",
       "2     (price, lower, -0.296, 1)       price        lower             -0.2960   \n",
       "\n",
       "   rule_number  \n",
       "0            1  \n",
       "2            1  \n",
       "2            1  \n",
       "2            1  \n",
       "2            1  "
      ]
     },
     "execution_count": 12,
     "metadata": {},
     "output_type": "execute_result"
    }
   ],
   "source": [
    "#aspect extractor ran in order to extract tuples from \n",
    "#entire amazon review text body\n",
    "df_senti = extract_aspect_sentiment_tuples(df)\n",
    "df_senti.head()"
   ]
  },
  {
   "cell_type": "code",
   "execution_count": 13,
   "metadata": {},
   "outputs": [
    {
     "data": {
      "text/html": [
       "<div>\n",
       "<style scoped>\n",
       "    .dataframe tbody tr th:only-of-type {\n",
       "        vertical-align: middle;\n",
       "    }\n",
       "\n",
       "    .dataframe tbody tr th {\n",
       "        vertical-align: top;\n",
       "    }\n",
       "\n",
       "    .dataframe thead th {\n",
       "        text-align: right;\n",
       "    }\n",
       "</style>\n",
       "<table border=\"1\" class=\"dataframe\">\n",
       "  <thead>\n",
       "    <tr style=\"text-align: right;\">\n",
       "      <th></th>\n",
       "      <th>modifier</th>\n",
       "      <th>asp</th>\n",
       "      <th>modifier_sentiment</th>\n",
       "      <th>sentiment</th>\n",
       "      <th>tup_pair</th>\n",
       "    </tr>\n",
       "  </thead>\n",
       "  <tbody>\n",
       "    <tr>\n",
       "      <th>1072</th>\n",
       "      <td>Able</td>\n",
       "      <td></td>\n",
       "      <td>0.0000</td>\n",
       "      <td>Neutral</td>\n",
       "      <td>(Able,  )</td>\n",
       "    </tr>\n",
       "    <tr>\n",
       "      <th>7660</th>\n",
       "      <td>Though bulky</td>\n",
       "      <td></td>\n",
       "      <td>0.0000</td>\n",
       "      <td>Neutral</td>\n",
       "      <td>(Though bulky,  )</td>\n",
       "    </tr>\n",
       "    <tr>\n",
       "      <th>1900</th>\n",
       "      <td>Only negative</td>\n",
       "      <td></td>\n",
       "      <td>-0.5719</td>\n",
       "      <td>Very Negative</td>\n",
       "      <td>(Only negative,  )</td>\n",
       "    </tr>\n",
       "    <tr>\n",
       "      <th>6809</th>\n",
       "      <td>Really disappointed</td>\n",
       "      <td></td>\n",
       "      <td>-0.4767</td>\n",
       "      <td>Negative</td>\n",
       "      <td>(Really disappointed,  )</td>\n",
       "    </tr>\n",
       "    <tr>\n",
       "      <th>6810</th>\n",
       "      <td>Otherwise excellent</td>\n",
       "      <td></td>\n",
       "      <td>0.5719</td>\n",
       "      <td>Very Positive</td>\n",
       "      <td>(Otherwise excellent,  )</td>\n",
       "    </tr>\n",
       "    <tr>\n",
       "      <th>...</th>\n",
       "      <td>...</td>\n",
       "      <td>...</td>\n",
       "      <td>...</td>\n",
       "      <td>...</td>\n",
       "      <td>...</td>\n",
       "    </tr>\n",
       "    <tr>\n",
       "      <th>5475</th>\n",
       "      <td>fake</td>\n",
       "      <td>youout</td>\n",
       "      <td>-0.4767</td>\n",
       "      <td>Negative</td>\n",
       "      <td>(fake, youout)</td>\n",
       "    </tr>\n",
       "    <tr>\n",
       "      <th>3941</th>\n",
       "      <td>past</td>\n",
       "      <td>yrs</td>\n",
       "      <td>0.0000</td>\n",
       "      <td>Neutral</td>\n",
       "      <td>(past, yrs)</td>\n",
       "    </tr>\n",
       "    <tr>\n",
       "      <th>6229</th>\n",
       "      <td>dead</td>\n",
       "      <td>zone</td>\n",
       "      <td>-0.6486</td>\n",
       "      <td>Very Negative</td>\n",
       "      <td>(dead, zone)</td>\n",
       "    </tr>\n",
       "    <tr>\n",
       "      <th>197</th>\n",
       "      <td>sweet</td>\n",
       "      <td>zone</td>\n",
       "      <td>0.4588</td>\n",
       "      <td>Positive</td>\n",
       "      <td>(sweet, zone)</td>\n",
       "    </tr>\n",
       "    <tr>\n",
       "      <th>7059</th>\n",
       "      <td>extra</td>\n",
       "      <td>~$20</td>\n",
       "      <td>0.0000</td>\n",
       "      <td>Neutral</td>\n",
       "      <td>(extra, ~$20)</td>\n",
       "    </tr>\n",
       "  </tbody>\n",
       "</table>\n",
       "<p>17675 rows × 5 columns</p>\n",
       "</div>"
      ],
      "text/plain": [
       "                 modifier     asp  modifier_sentiment      sentiment  \\\n",
       "1072                 Able                      0.0000        Neutral   \n",
       "7660         Though bulky                      0.0000        Neutral   \n",
       "1900        Only negative                     -0.5719  Very Negative   \n",
       "6809  Really disappointed                     -0.4767       Negative   \n",
       "6810  Otherwise excellent                      0.5719  Very Positive   \n",
       "...                   ...     ...                 ...            ...   \n",
       "5475                 fake  youout             -0.4767       Negative   \n",
       "3941                 past     yrs              0.0000        Neutral   \n",
       "6229                 dead    zone             -0.6486  Very Negative   \n",
       "197                 sweet    zone              0.4588       Positive   \n",
       "7059                extra    ~$20              0.0000        Neutral   \n",
       "\n",
       "                      tup_pair  \n",
       "1072                 (Able,  )  \n",
       "7660         (Though bulky,  )  \n",
       "1900        (Only negative,  )  \n",
       "6809  (Really disappointed,  )  \n",
       "6810  (Otherwise excellent,  )  \n",
       "...                        ...  \n",
       "5475            (fake, youout)  \n",
       "3941               (past, yrs)  \n",
       "6229              (dead, zone)  \n",
       "197              (sweet, zone)  \n",
       "7059             (extra, ~$20)  \n",
       "\n",
       "[17675 rows x 5 columns]"
      ]
     },
     "execution_count": 13,
     "metadata": {},
     "output_type": "execute_result"
    }
   ],
   "source": [
    "#keep only columns of interest\n",
    "df_senti_predicted = df_senti.loc[:, ['modifier', 'asp', 'modifier_sentiment']]\n",
    "\n",
    "\n",
    "#convert sentiment to Categorical to compare to human labels more easily\n",
    "df_senti_predicted.loc[df_senti_predicted['modifier_sentiment'] < -.5, 'sentiment'] = 'Very Negative'\n",
    "df_senti_predicted.loc[(df_senti_predicted['modifier_sentiment'] >= -.5) & (df_senti_predicted['modifier_sentiment'] < 0), 'sentiment'] = 'Negative'\n",
    "df_senti_predicted.loc[df_senti_predicted['modifier_sentiment'] == 0, 'sentiment'] = 'Neutral'\n",
    "df_senti_predicted.loc[(df_senti_predicted['modifier_sentiment'] > 0) & (df_senti_predicted['modifier_sentiment'] <= 0.5), 'sentiment'] = 'Positive'\n",
    "df_senti_predicted.loc[df_senti_predicted['modifier_sentiment'] > 0.5, 'sentiment'] = 'Very Positive'\n",
    "\n",
    "#convert aspects back to pair insted of triplet \n",
    "#for easy comparison to human labels\n",
    "df_senti_predicted['tup_pair'] = list(zip(df_senti_predicted['modifier'],df_senti_predicted['asp']))\n",
    "#drop duplicate aspect pairs\n",
    "df_to_turk2 = df_senti_predicted.drop_duplicates(subset='tup_pair')\n",
    "\n",
    "df_to_turk2.sort_values(by='asp')"
   ]
  },
  {
   "cell_type": "code",
   "execution_count": 14,
   "metadata": {},
   "outputs": [],
   "source": [
    "#sending data to create template\n",
    "#for workers to submit labels\n",
    "#using Amazon Turk \n",
    "df_to_turk2 = df_senti_predicted.drop_duplicates(subset='tup_pair')\n",
    "df_to_turk2.loc[:, ['modifier', 'asp']].to_csv('data/turk_data2.csv', index=False)"
   ]
  },
  {
   "cell_type": "markdown",
   "metadata": {},
   "source": [
    "<code style=\"background:yellow;color:black\">Below is an example of the extractor being run to cluster the aspects and return a bar graph of total sentiment (total summation of negative and positive from the VADER sentiment intensity analyzer) as well as a DataFrame with cluster names for further analyses. You can see that for the product_id [\"B0001FTVEK\"](https://www.amazon.com/Sennheiser-RS120-Wireless-Headphones-Charging/dp/B0001FTVEK), which are RS120 Wireless Headphones, there is a lot of positive sentiment for the value and sound_quality categories as compared to the headphone_design and hiss/tech_diff categories. The hiss category is low enough that it should be the major focus for the company to funnel resources in response to customer demand for improving their product. If they can focus first on fixing the hiss mentioned in many amazon reviews, they can also put a few extra resources into impoving some other design aspects of the headphones, such as the batteries or cradle. </code>"
   ]
  },
  {
   "cell_type": "code",
   "execution_count": 35,
   "metadata": {
    "scrolled": true
   },
   "outputs": [
    {
     "name": "stdout",
     "output_type": "stream",
     "text": [
      "loading....\n",
      "write misc if low counts and special characters\n",
      "the top word is usually the best fit\n"
     ]
    },
    {
     "data": {
      "text/plain": [
       "[('quality', 2572),\n",
       " ('range', 679),\n",
       " ('product', 640),\n",
       " ('set', 622),\n",
       " ('volume', 419),\n",
       " ('price', 343),\n",
       " ('level', 210),\n",
       " ('reviews', 182),\n",
       " ('problem', 173),\n",
       " ('system', 165)]"
      ]
     },
     "metadata": {},
     "output_type": "display_data"
    },
    {
     "name": "stdout",
     "output_type": "stream",
     "text": [
      "Pick a category for above words: \n",
      "quailty/value\n"
     ]
    },
    {
     "data": {
      "text/plain": [
       "[('sound', 2150),\n",
       " ('reception', 341),\n",
       " ('pair', 321),\n",
       " ('head', 261),\n",
       " ('TV', 245),\n",
       " ('time', 225),\n",
       " ('thing', 188),\n",
       " ('one', 182),\n",
       " ('ones', 178),\n",
       " ('life', 138)]"
      ]
     },
     "metadata": {},
     "output_type": "display_data"
    },
    {
     "name": "stdout",
     "output_type": "stream",
     "text": [
      "Pick a category for above words: \n",
      "sound/reception\n"
     ]
    },
    {
     "data": {
      "text/plain": [
       "[('hiss', 227),\n",
       " (' ', 186),\n",
       " ('Sennheiser', 91),\n",
       " ('RS120', 53),\n",
       " ('hissing', 43),\n",
       " ('Amazon', 22),\n",
       " ('hum', 20),\n",
       " ('annoyance', 19),\n",
       " ('earpads', 17),\n",
       " ('   ', 17)]"
      ]
     },
     "metadata": {},
     "output_type": "display_data"
    },
    {
     "name": "stdout",
     "output_type": "stream",
     "text": [
      "Pick a category for above words: \n",
      "hiss/tech_diff\n"
     ]
    },
    {
     "data": {
      "text/plain": [
       "[('headphones', 2382),\n",
       " ('noise', 460),\n",
       " ('batteries', 432),\n",
       " ('headset', 425),\n",
       " ('headphone', 289),\n",
       " ('signal', 259),\n",
       " ('static', 228),\n",
       " ('unit', 213),\n",
       " ('cradle', 206),\n",
       " ('phones', 188)]"
      ]
     },
     "metadata": {},
     "output_type": "display_data"
    },
    {
     "name": "stdout",
     "output_type": "stream",
     "text": [
      "Pick a category for above words: \n",
      "design\n"
     ]
    },
    {
     "data": {
      "image/png": "[encoded data removed]",
      "text/plain": [
       "<Figure size 720x576 with 1 Axes>"
      ]
     },
     "metadata": {
      "needs_background": "light"
     },
     "output_type": "display_data"
    }
   ],
   "source": [
    "df_senti = get_cluster_name_inputs(df_senti)"
   ]
  },
  {
   "cell_type": "code",
   "execution_count": 18,
   "metadata": {},
   "outputs": [
    {
     "name": "stdout",
     "output_type": "stream",
     "text": [
      "\n",
      "headphone_design\n",
      "\n"
     ]
    },
    {
     "data": {
      "text/plain": [
       "headphones      2382\n",
       "noise            460\n",
       "batteries        432\n",
       "headset          425\n",
       "headphone        289\n",
       "signal           259\n",
       "static           228\n",
       "unit             213\n",
       "cradle           206\n",
       "phones           188\n",
       "audio            135\n",
       "light            133\n",
       "interference     125\n",
       "station          118\n",
       "output           107\n",
       "headsets          97\n",
       "tuning            96\n",
       "setup             84\n",
       "device            82\n",
       "frequency         81\n",
       "earphones         80\n",
       "Headphones        78\n",
       "pads              78\n",
       "transmitter       76\n",
       "controls          75\n",
       "channels          74\n",
       "speakers          65\n",
       "screen            65\n",
       "battery           63\n",
       "cable             54\n",
       "Name: asp, dtype: int64"
      ]
     },
     "metadata": {},
     "output_type": "display_data"
    },
    {
     "name": "stdout",
     "output_type": "stream",
     "text": [
      "\n",
      "headphone_design\n",
      "\n"
     ]
    },
    {
     "data": {
      "image/png": "[encoded data removed]",
      "text/plain": [
       "<Figure size 432x288 with 1 Axes>"
      ]
     },
     "metadata": {
      "needs_background": "light"
     },
     "output_type": "display_data"
    }
   ],
   "source": [
    "print('\\nheadphone_design\\n')\n",
    "display(df_senti.loc[df_senti['cluster_name'] == 'design', 'asp'].value_counts()[:30])\n",
    "print('\\nheadphone_design\\n')\n",
    "df_senti.loc[df_senti['cluster_name'] == 'design', 'asp'].value_counts()[:10].plot.barh();"
   ]
  },
  {
   "cell_type": "markdown",
   "metadata": {},
   "source": [
    "## Loading Turk Data"
   ]
  },
  {
   "cell_type": "markdown",
   "metadata": {},
   "source": [
    "<code style=\"background:yellow;color:black\">The DataFrames below are batch results loaded as csv files submitted from Amazon Mechanical Turk. As stated before, there are a total of 6107 non-null entries with information for 1438 unqiue aspects, submitted from a total of410 different workers from around the globe. Duplicate pairs of aspect/opinion pairs were included to inspect variance of submission from human labels and machine labels for each opinion pair.</code>"
   ]
  },
  {
   "cell_type": "code",
   "execution_count": 19,
   "metadata": {},
   "outputs": [
    {
     "name": "stdout",
     "output_type": "stream",
     "text": [
      "<class 'pandas.core.frame.DataFrame'>\n",
      "RangeIndex: 1020 entries, 0 to 1019\n",
      "Data columns (total 32 columns):\n",
      " #   Column                       Non-Null Count  Dtype  \n",
      "---  ------                       --------------  -----  \n",
      " 0   HITId                        1020 non-null   object \n",
      " 1   HITTypeId                    1020 non-null   object \n",
      " 2   Title                        1020 non-null   object \n",
      " 3   Description                  1020 non-null   object \n",
      " 4   Keywords                     1020 non-null   object \n",
      " 5   CreationTime                 1020 non-null   object \n",
      " 6   MaxAssignments               1020 non-null   int64  \n",
      " 7   RequesterAnnotation          1020 non-null   object \n",
      " 8   AssignmentDurationInSeconds  1020 non-null   int64  \n",
      " 9   AutoApprovalDelayInSeconds   1020 non-null   int64  \n",
      " 10  Expiration                   1020 non-null   object \n",
      " 11  NumberOfSimilarHITs          0 non-null      float64\n",
      " 12  LifetimeInSeconds            0 non-null      float64\n",
      " 13  AssignmentId                 1020 non-null   object \n",
      " 14  WorkerId                     1020 non-null   object \n",
      " 15  AssignmentStatus             1020 non-null   object \n",
      " 16  AcceptTime                   1020 non-null   object \n",
      " 17  SubmitTime                   1020 non-null   object \n",
      " 18  AutoApprovalTime             1020 non-null   object \n",
      " 19  ApprovalTime                 1020 non-null   object \n",
      " 20  RejectionTime                0 non-null      float64\n",
      " 21  RequesterFeedback            0 non-null      float64\n",
      " 22  WorkTimeInSeconds            1020 non-null   int64  \n",
      " 23  LifetimeApprovalRate         1020 non-null   object \n",
      " 24  Last30DaysApprovalRate       1020 non-null   object \n",
      " 25  Last7DaysApprovalRate        1020 non-null   object \n",
      " 26  Input.Modifier               1020 non-null   object \n",
      " 27  Input.Aspect                 1014 non-null   object \n",
      " 28  Input.Sentiment              13 non-null     object \n",
      " 29  Answer.sentiment.label       1004 non-null   object \n",
      " 30  Approve                      0 non-null      float64\n",
      " 31  Reject                       0 non-null      float64\n",
      "dtypes: float64(6), int64(4), object(22)\n",
      "memory usage: 255.1+ KB\n"
     ]
    },
    {
     "data": {
      "text/plain": [
       "None"
      ]
     },
     "metadata": {},
     "output_type": "display_data"
    },
    {
     "name": "stdout",
     "output_type": "stream",
     "text": [
      "<class 'pandas.core.frame.DataFrame'>\n",
      "RangeIndex: 153 entries, 0 to 152\n",
      "Data columns (total 32 columns):\n",
      " #   Column                       Non-Null Count  Dtype  \n",
      "---  ------                       --------------  -----  \n",
      " 0   HITId                        153 non-null    object \n",
      " 1   HITTypeId                    153 non-null    object \n",
      " 2   Title                        153 non-null    object \n",
      " 3   Description                  153 non-null    object \n",
      " 4   Keywords                     153 non-null    object \n",
      " 5   CreationTime                 153 non-null    object \n",
      " 6   MaxAssignments               153 non-null    int64  \n",
      " 7   RequesterAnnotation          153 non-null    object \n",
      " 8   AssignmentDurationInSeconds  153 non-null    int64  \n",
      " 9   AutoApprovalDelayInSeconds   153 non-null    int64  \n",
      " 10  Expiration                   153 non-null    object \n",
      " 11  NumberOfSimilarHITs          0 non-null      float64\n",
      " 12  LifetimeInSeconds            0 non-null      float64\n",
      " 13  AssignmentId                 153 non-null    object \n",
      " 14  WorkerId                     153 non-null    object \n",
      " 15  AssignmentStatus             153 non-null    object \n",
      " 16  AcceptTime                   153 non-null    object \n",
      " 17  SubmitTime                   153 non-null    object \n",
      " 18  AutoApprovalTime             153 non-null    object \n",
      " 19  ApprovalTime                 153 non-null    object \n",
      " 20  RejectionTime                0 non-null      float64\n",
      " 21  RequesterFeedback            0 non-null      float64\n",
      " 22  WorkTimeInSeconds            153 non-null    int64  \n",
      " 23  LifetimeApprovalRate         153 non-null    object \n",
      " 24  Last30DaysApprovalRate       153 non-null    object \n",
      " 25  Last7DaysApprovalRate        153 non-null    object \n",
      " 26  Input.Modifier               153 non-null    object \n",
      " 27  Input.Aspect                 152 non-null    object \n",
      " 28  Input.Sentiment              7 non-null      object \n",
      " 29  Answer.sentiment.label       151 non-null    object \n",
      " 30  Approve                      0 non-null      float64\n",
      " 31  Reject                       0 non-null      float64\n",
      "dtypes: float64(6), int64(4), object(22)\n",
      "memory usage: 38.4+ KB\n"
     ]
    },
    {
     "data": {
      "text/plain": [
       "None"
      ]
     },
     "metadata": {},
     "output_type": "display_data"
    },
    {
     "name": "stdout",
     "output_type": "stream",
     "text": [
      "<class 'pandas.core.frame.DataFrame'>\n",
      "RangeIndex: 1921 entries, 0 to 1920\n",
      "Data columns (total 31 columns):\n",
      " #   Column                       Non-Null Count  Dtype  \n",
      "---  ------                       --------------  -----  \n",
      " 0   HITId                        1921 non-null   object \n",
      " 1   HITTypeId                    1921 non-null   object \n",
      " 2   Title                        1921 non-null   object \n",
      " 3   Description                  1921 non-null   object \n",
      " 4   Keywords                     1921 non-null   object \n",
      " 5   CreationTime                 1921 non-null   object \n",
      " 6   MaxAssignments               1921 non-null   int64  \n",
      " 7   RequesterAnnotation          1921 non-null   object \n",
      " 8   AssignmentDurationInSeconds  1921 non-null   int64  \n",
      " 9   AutoApprovalDelayInSeconds   1921 non-null   int64  \n",
      " 10  Expiration                   1921 non-null   object \n",
      " 11  NumberOfSimilarHITs          0 non-null      float64\n",
      " 12  LifetimeInSeconds            0 non-null      float64\n",
      " 13  AssignmentId                 1921 non-null   object \n",
      " 14  WorkerId                     1921 non-null   object \n",
      " 15  AssignmentStatus             1921 non-null   object \n",
      " 16  AcceptTime                   1921 non-null   object \n",
      " 17  SubmitTime                   1921 non-null   object \n",
      " 18  AutoApprovalTime             1921 non-null   object \n",
      " 19  ApprovalTime                 1921 non-null   object \n",
      " 20  RejectionTime                0 non-null      float64\n",
      " 21  RequesterFeedback            0 non-null      float64\n",
      " 22  WorkTimeInSeconds            1921 non-null   int64  \n",
      " 23  LifetimeApprovalRate         1921 non-null   object \n",
      " 24  Last30DaysApprovalRate       1921 non-null   object \n",
      " 25  Last7DaysApprovalRate        1921 non-null   object \n",
      " 26  Input.Modifier               1921 non-null   object \n",
      " 27  Input.Aspect                 1912 non-null   object \n",
      " 28  Answer.sentiment.label       1862 non-null   object \n",
      " 29  Approve                      0 non-null      float64\n",
      " 30  Reject                       0 non-null      float64\n",
      "dtypes: float64(6), int64(4), object(21)\n",
      "memory usage: 465.4+ KB\n"
     ]
    },
    {
     "data": {
      "text/plain": [
       "None"
      ]
     },
     "metadata": {},
     "output_type": "display_data"
    },
    {
     "name": "stdout",
     "output_type": "stream",
     "text": [
      "<class 'pandas.core.frame.DataFrame'>\n",
      "RangeIndex: 3229 entries, 0 to 3228\n",
      "Data columns (total 31 columns):\n",
      " #   Column                       Non-Null Count  Dtype  \n",
      "---  ------                       --------------  -----  \n",
      " 0   HITId                        3229 non-null   object \n",
      " 1   HITTypeId                    3229 non-null   object \n",
      " 2   Title                        3229 non-null   object \n",
      " 3   Description                  3229 non-null   object \n",
      " 4   Keywords                     3229 non-null   object \n",
      " 5   CreationTime                 3229 non-null   object \n",
      " 6   MaxAssignments               3229 non-null   int64  \n",
      " 7   RequesterAnnotation          3229 non-null   object \n",
      " 8   AssignmentDurationInSeconds  3229 non-null   int64  \n",
      " 9   AutoApprovalDelayInSeconds   3229 non-null   int64  \n",
      " 10  Expiration                   3229 non-null   object \n",
      " 11  NumberOfSimilarHITs          0 non-null      float64\n",
      " 12  LifetimeInSeconds            0 non-null      float64\n",
      " 13  AssignmentId                 3229 non-null   object \n",
      " 14  WorkerId                     3229 non-null   object \n",
      " 15  AssignmentStatus             3229 non-null   object \n",
      " 16  AcceptTime                   3229 non-null   object \n",
      " 17  SubmitTime                   3229 non-null   object \n",
      " 18  AutoApprovalTime             3229 non-null   object \n",
      " 19  ApprovalTime                 257 non-null    object \n",
      " 20  RejectionTime                0 non-null      float64\n",
      " 21  RequesterFeedback            0 non-null      float64\n",
      " 22  WorkTimeInSeconds            3229 non-null   int64  \n",
      " 23  LifetimeApprovalRate         3229 non-null   object \n",
      " 24  Last30DaysApprovalRate       3229 non-null   object \n",
      " 25  Last7DaysApprovalRate        3229 non-null   object \n",
      " 26  Input.Modifier               3228 non-null   object \n",
      " 27  Input.Aspect                 3203 non-null   object \n",
      " 28  Answer.sentiment.label       3133 non-null   object \n",
      " 29  Approve                      0 non-null      float64\n",
      " 30  Reject                       0 non-null      float64\n",
      "dtypes: float64(6), int64(4), object(21)\n",
      "memory usage: 782.1+ KB\n"
     ]
    },
    {
     "data": {
      "text/plain": [
       "None"
      ]
     },
     "metadata": {},
     "output_type": "display_data"
    }
   ],
   "source": [
    "#Read all Turk Data\n",
    "\n",
    "df1 = pd.read_csv(\"data/batch1_results.csv\")\n",
    "df2 = pd.read_csv(\"data/batch2_results.csv\")\n",
    "df3 = pd.read_csv(\"data/batch3_results.csv\")\n",
    "df4 = pd.read_csv(\"data/batch4_results.csv\")\n",
    "# df_lab = pd.read_csv(\"data/locally_sourced_labels.csv\")\n",
    "\n",
    "display(df1.info())\n",
    "display(df2.info())\n",
    "display(df3.info())\n",
    "display(df4.info())\n",
    "# df_lab.info()"
   ]
  },
  {
   "cell_type": "code",
   "execution_count": 20,
   "metadata": {},
   "outputs": [
    {
     "name": "stdout",
     "output_type": "stream",
     "text": [
      "Total number of Turk Workers: 410\n",
      "\n",
      "Total number of Unique Aspects: 1438\n",
      "\n",
      "<class 'pandas.core.frame.DataFrame'>\n",
      "Int64Index: 6107 entries, 0 to 3228\n",
      "Data columns (total 3 columns):\n",
      " #   Column                  Non-Null Count  Dtype \n",
      "---  ------                  --------------  ----- \n",
      " 0   Input.Modifier          6107 non-null   object\n",
      " 1   Input.Aspect            6107 non-null   object\n",
      " 2   Answer.sentiment.label  6107 non-null   object\n",
      "dtypes: object(3)\n",
      "memory usage: 190.8+ KB\n"
     ]
    },
    {
     "data": {
      "text/plain": [
       "None"
      ]
     },
     "metadata": {},
     "output_type": "display_data"
    },
    {
     "data": {
      "text/html": [
       "<div>\n",
       "<style scoped>\n",
       "    .dataframe tbody tr th:only-of-type {\n",
       "        vertical-align: middle;\n",
       "    }\n",
       "\n",
       "    .dataframe tbody tr th {\n",
       "        vertical-align: top;\n",
       "    }\n",
       "\n",
       "    .dataframe thead th {\n",
       "        text-align: right;\n",
       "    }\n",
       "</style>\n",
       "<table border=\"1\" class=\"dataframe\">\n",
       "  <thead>\n",
       "    <tr style=\"text-align: right;\">\n",
       "      <th></th>\n",
       "      <th>modifier</th>\n",
       "      <th>asp</th>\n",
       "      <th>sentiment_h</th>\n",
       "    </tr>\n",
       "  </thead>\n",
       "  <tbody>\n",
       "    <tr>\n",
       "      <th>32</th>\n",
       "      <td>extra</td>\n",
       "      <td>$</td>\n",
       "      <td>Very Positive</td>\n",
       "    </tr>\n",
       "    <tr>\n",
       "      <th>115</th>\n",
       "      <td>more missing</td>\n",
       "      <td>1/2</td>\n",
       "      <td>Negative</td>\n",
       "    </tr>\n",
       "    <tr>\n",
       "      <th>646</th>\n",
       "      <td>single</td>\n",
       "      <td>1/8</td>\n",
       "      <td>Neutral</td>\n",
       "    </tr>\n",
       "    <tr>\n",
       "      <th>1659</th>\n",
       "      <td>stereo</td>\n",
       "      <td>1/8\\\\</td>\n",
       "      <td>Neutral</td>\n",
       "    </tr>\n",
       "    <tr>\n",
       "      <th>589</th>\n",
       "      <td>new</td>\n",
       "      <td>120s</td>\n",
       "      <td>Positive</td>\n",
       "    </tr>\n",
       "    <tr>\n",
       "      <th>...</th>\n",
       "      <td>...</td>\n",
       "      <td>...</td>\n",
       "      <td>...</td>\n",
       "    </tr>\n",
       "    <tr>\n",
       "      <th>3042</th>\n",
       "      <td>pair</td>\n",
       "      <td>years</td>\n",
       "      <td>Neutral</td>\n",
       "    </tr>\n",
       "    <tr>\n",
       "      <th>1031</th>\n",
       "      <td>plus</td>\n",
       "      <td>years</td>\n",
       "      <td>Positive</td>\n",
       "    </tr>\n",
       "    <tr>\n",
       "      <th>1878</th>\n",
       "      <td>past</td>\n",
       "      <td>years</td>\n",
       "      <td>Positive</td>\n",
       "    </tr>\n",
       "    <tr>\n",
       "      <th>2296</th>\n",
       "      <td>fake</td>\n",
       "      <td>youout</td>\n",
       "      <td>Very Negative</td>\n",
       "    </tr>\n",
       "    <tr>\n",
       "      <th>299</th>\n",
       "      <td>sweet</td>\n",
       "      <td>zone</td>\n",
       "      <td>Positive</td>\n",
       "    </tr>\n",
       "  </tbody>\n",
       "</table>\n",
       "<p>6107 rows × 3 columns</p>\n",
       "</div>"
      ],
      "text/plain": [
       "          modifier     asp    sentiment_h\n",
       "32           extra       $  Very Positive\n",
       "115   more missing     1/2       Negative\n",
       "646         single     1/8        Neutral\n",
       "1659        stereo   1/8\\\\        Neutral\n",
       "589            new    120s       Positive\n",
       "...            ...     ...            ...\n",
       "3042          pair   years        Neutral\n",
       "1031          plus   years       Positive\n",
       "1878          past   years       Positive\n",
       "2296          fake  youout  Very Negative\n",
       "299          sweet    zone       Positive\n",
       "\n",
       "[6107 rows x 3 columns]"
      ]
     },
     "execution_count": 20,
     "metadata": {},
     "output_type": "execute_result"
    }
   ],
   "source": [
    "#concact turk data into one dataframe\n",
    "#keep only necessary columns\n",
    "\n",
    "df_turk = pd.concat([df1,df2,df3, df4])\n",
    "\n",
    "num_turk = len(df_turk.WorkerId.unique())\n",
    "print(f'Total number of Turk Workers: {num_turk}\\n')\n",
    "\n",
    "df_turk = df_turk.loc[:, ['Input.Modifier', 'Input.Aspect',  'Answer.sentiment.label']]\n",
    "df_turk.dropna(inplace=True)\n",
    "\n",
    "num_aspects = len(df_turk[\"Input.Aspect\"].unique())\n",
    "print(f'Total number of Unique Aspects: {num_aspects}\\n')\n",
    "\n",
    "display(df_turk.info())\n",
    "\n",
    "#rename to differentiate human labels\n",
    "df_turk.rename({'Input.Modifier': 'modifier', \n",
    "                        'Input.Aspect': 'asp',\n",
    "                        'Answer.sentiment.label': 'sentiment_h'\n",
    "                       }, axis=1, inplace=True)\n",
    "\n",
    "\n",
    "\n",
    "df_turk.sort_values(by='asp')"
   ]
  },
  {
   "cell_type": "code",
   "execution_count": 21,
   "metadata": {},
   "outputs": [
    {
     "name": "stdout",
     "output_type": "stream",
     "text": [
      "<class 'pandas.core.frame.DataFrame'>\n",
      "Int64Index: 6107 entries, 0 to 3228\n",
      "Data columns (total 4 columns):\n",
      " #   Column       Non-Null Count  Dtype \n",
      "---  ------       --------------  ----- \n",
      " 0   modifier     6107 non-null   object\n",
      " 1   asp          6107 non-null   object\n",
      " 2   sentiment_h  6107 non-null   object\n",
      " 3   tup_pair     6107 non-null   object\n",
      "dtypes: object(4)\n",
      "memory usage: 238.6+ KB\n"
     ]
    },
    {
     "data": {
      "text/plain": [
       "None"
      ]
     },
     "metadata": {},
     "output_type": "display_data"
    },
    {
     "name": "stdout",
     "output_type": "stream",
     "text": [
      "<class 'pandas.core.frame.DataFrame'>\n",
      "Int64Index: 35355 entries, 0 to 7875\n",
      "Data columns (total 5 columns):\n",
      " #   Column              Non-Null Count  Dtype  \n",
      "---  ------              --------------  -----  \n",
      " 0   modifier            35355 non-null  object \n",
      " 1   asp                 35355 non-null  object \n",
      " 2   modifier_sentiment  35355 non-null  float64\n",
      " 3   sentiment           35355 non-null  object \n",
      " 4   tup_pair            35355 non-null  object \n",
      "dtypes: float64(1), object(4)\n",
      "memory usage: 1.6+ MB\n"
     ]
    }
   ],
   "source": [
    "#create aspect/opinion pair to\n",
    "#compare machine label vs human\n",
    "df_turk['tup_pair'] = list(zip(df_turk['modifier'],df_turk['asp']))\n",
    "display(df_turk.info())\n",
    "df_senti_predicted.info()"
   ]
  },
  {
   "cell_type": "markdown",
   "metadata": {},
   "source": [
    "# Results"
   ]
  },
  {
   "cell_type": "code",
   "execution_count": 22,
   "metadata": {},
   "outputs": [
    {
     "data": {
      "text/html": [
       "<div>\n",
       "<style scoped>\n",
       "    .dataframe tbody tr th:only-of-type {\n",
       "        vertical-align: middle;\n",
       "    }\n",
       "\n",
       "    .dataframe tbody tr th {\n",
       "        vertical-align: top;\n",
       "    }\n",
       "\n",
       "    .dataframe thead th {\n",
       "        text-align: right;\n",
       "    }\n",
       "</style>\n",
       "<table border=\"1\" class=\"dataframe\">\n",
       "  <thead>\n",
       "    <tr style=\"text-align: right;\">\n",
       "      <th></th>\n",
       "      <th>modifier_x</th>\n",
       "      <th>asp_x</th>\n",
       "      <th>sentiment_h</th>\n",
       "      <th>tup_pair</th>\n",
       "      <th>modifier_y</th>\n",
       "      <th>asp_y</th>\n",
       "      <th>modifier_sentiment</th>\n",
       "      <th>sentiment</th>\n",
       "    </tr>\n",
       "  </thead>\n",
       "  <tbody>\n",
       "    <tr>\n",
       "      <th>0</th>\n",
       "      <td>old</td>\n",
       "      <td>father</td>\n",
       "      <td>Neutral</td>\n",
       "      <td>(old, father)</td>\n",
       "      <td>old</td>\n",
       "      <td>father</td>\n",
       "      <td>0.0</td>\n",
       "      <td>Neutral</td>\n",
       "    </tr>\n",
       "    <tr>\n",
       "      <th>16</th>\n",
       "      <td>wireless</td>\n",
       "      <td>headphones</td>\n",
       "      <td>Neutral</td>\n",
       "      <td>(wireless, headphones)</td>\n",
       "      <td>wireless</td>\n",
       "      <td>headphones</td>\n",
       "      <td>0.0</td>\n",
       "      <td>Neutral</td>\n",
       "    </tr>\n",
       "    <tr>\n",
       "      <th>748</th>\n",
       "      <td>charging</td>\n",
       "      <td>rack</td>\n",
       "      <td>Neutral</td>\n",
       "      <td>(charging, rack)</td>\n",
       "      <td>charging</td>\n",
       "      <td>rack</td>\n",
       "      <td>0.0</td>\n",
       "      <td>Neutral</td>\n",
       "    </tr>\n",
       "    <tr>\n",
       "      <th>752</th>\n",
       "      <td>also available</td>\n",
       "      <td>headphones</td>\n",
       "      <td>Very Positive</td>\n",
       "      <td>(also available, headphones)</td>\n",
       "      <td>also available</td>\n",
       "      <td>headphones</td>\n",
       "      <td>0.0</td>\n",
       "      <td>Neutral</td>\n",
       "    </tr>\n",
       "    <tr>\n",
       "      <th>753</th>\n",
       "      <td>impaired</td>\n",
       "      <td>husband</td>\n",
       "      <td>Negative</td>\n",
       "      <td>(impaired, husband)</td>\n",
       "      <td>impaired</td>\n",
       "      <td>husband</td>\n",
       "      <td>0.0</td>\n",
       "      <td>Neutral</td>\n",
       "    </tr>\n",
       "  </tbody>\n",
       "</table>\n",
       "</div>"
      ],
      "text/plain": [
       "         modifier_x       asp_x    sentiment_h                      tup_pair  \\\n",
       "0               old      father        Neutral                 (old, father)   \n",
       "16         wireless  headphones        Neutral        (wireless, headphones)   \n",
       "748        charging        rack        Neutral              (charging, rack)   \n",
       "752  also available  headphones  Very Positive  (also available, headphones)   \n",
       "753        impaired     husband       Negative           (impaired, husband)   \n",
       "\n",
       "         modifier_y       asp_y  modifier_sentiment sentiment  \n",
       "0               old      father                 0.0   Neutral  \n",
       "16         wireless  headphones                 0.0   Neutral  \n",
       "748        charging        rack                 0.0   Neutral  \n",
       "752  also available  headphones                 0.0   Neutral  \n",
       "753        impaired     husband                 0.0   Neutral  "
      ]
     },
     "execution_count": 22,
     "metadata": {},
     "output_type": "execute_result"
    }
   ],
   "source": [
    "#create merged DataFrame\n",
    "#in order to compare human\n",
    "#labeled aspect/opinion sentiment\n",
    "#vs model aspect/opinion sentiment\n",
    "#can check accuracy and precision\n",
    "\n",
    "#how much do Turk workers agree with\n",
    "#my model?\n",
    "\n",
    "#How much do Turk workers agree with\n",
    "#each other?\n",
    "\n",
    "df_results = pd.merge(df_turk,\n",
    "                      df_senti_predicted,\n",
    "                      on='tup_pair',\n",
    "                      how='left'\n",
    "                     )\n",
    "\n",
    "df_results.drop_duplicates(subset='tup_pair', inplace=True)\n",
    "df_results.head()"
   ]
  },
  {
   "cell_type": "code",
   "execution_count": 23,
   "metadata": {},
   "outputs": [
    {
     "data": {
      "text/plain": [
       "Positive         1860\n",
       "Neutral          1521\n",
       "Very Positive     790\n",
       "Negative          692\n",
       "Very Negative     223\n",
       "Name: sentiment_h, dtype: int64"
      ]
     },
     "metadata": {},
     "output_type": "display_data"
    },
    {
     "data": {
      "text/plain": [
       "Neutral          3309\n",
       "Positive          763\n",
       "Very Positive     523\n",
       "Negative          397\n",
       "Very Negative      88\n",
       "Name: sentiment, dtype: int64"
      ]
     },
     "execution_count": 23,
     "metadata": {},
     "output_type": "execute_result"
    }
   ],
   "source": [
    "display(df_results.sentiment_h.value_counts())\n",
    "df_results.sentiment.value_counts()"
   ]
  },
  {
   "cell_type": "code",
   "execution_count": 24,
   "metadata": {},
   "outputs": [
    {
     "data": {
      "text/plain": [
       "Neutral          1198\n",
       "Positive          394\n",
       "Very Positive     187\n",
       "Negative          141\n",
       "Very Negative      21\n",
       "Name: sentiment, dtype: int64"
      ]
     },
     "metadata": {},
     "output_type": "display_data"
    },
    {
     "data": {
      "text/plain": [
       "Neutral          2111\n",
       "Positive          369\n",
       "Very Positive     336\n",
       "Negative          256\n",
       "Very Negative      67\n",
       "Name: sentiment, dtype: int64"
      ]
     },
     "execution_count": 24,
     "metadata": {},
     "output_type": "execute_result"
    }
   ],
   "source": [
    "df_results2 = df_results.reset_index(drop=True)\n",
    "df_results2.dropna(inplace=True)\n",
    "\n",
    "matching_predictions = df_results2.loc[df_results2['sentiment_h'] == df_results2['sentiment']]\n",
    "mismatching_predictions = df_results2.loc[df_results2['sentiment_h'] != df_results2['sentiment']]\n",
    "\n",
    "display(matching_predictions.sentiment.value_counts())\n",
    "mismatching_predictions.sentiment.value_counts()"
   ]
  },
  {
   "cell_type": "code",
   "execution_count": 25,
   "metadata": {},
   "outputs": [
    {
     "data": {
      "text/html": [
       "<div>\n",
       "<style scoped>\n",
       "    .dataframe tbody tr th:only-of-type {\n",
       "        vertical-align: middle;\n",
       "    }\n",
       "\n",
       "    .dataframe tbody tr th {\n",
       "        vertical-align: top;\n",
       "    }\n",
       "\n",
       "    .dataframe thead th {\n",
       "        text-align: right;\n",
       "    }\n",
       "</style>\n",
       "<table border=\"1\" class=\"dataframe\">\n",
       "  <thead>\n",
       "    <tr style=\"text-align: right;\">\n",
       "      <th></th>\n",
       "      <th>Neutral</th>\n",
       "      <th>Positive</th>\n",
       "      <th>Very Positive</th>\n",
       "      <th>Negative</th>\n",
       "      <th>Very Negative</th>\n",
       "    </tr>\n",
       "  </thead>\n",
       "  <tbody>\n",
       "    <tr>\n",
       "      <th>precision</th>\n",
       "      <td>0.3620</td>\n",
       "      <td>0.5164</td>\n",
       "      <td>0.3576</td>\n",
       "      <td>0.3552</td>\n",
       "      <td>0.2386</td>\n",
       "    </tr>\n",
       "    <tr>\n",
       "      <th>accuracy</th>\n",
       "      <td>0.2358</td>\n",
       "      <td>0.0776</td>\n",
       "      <td>0.0368</td>\n",
       "      <td>0.0278</td>\n",
       "      <td>0.0041</td>\n",
       "    </tr>\n",
       "  </tbody>\n",
       "</table>\n",
       "</div>"
      ],
      "text/plain": [
       "           Neutral  Positive  Very Positive  Negative  Very Negative\n",
       "precision   0.3620    0.5164         0.3576    0.3552         0.2386\n",
       "accuracy    0.2358    0.0776         0.0368    0.0278         0.0041"
      ]
     },
     "execution_count": 25,
     "metadata": {},
     "output_type": "execute_result"
    }
   ],
   "source": [
    "#create table to see accuracy and precision of extractor\n",
    "#AS COMPARED TO MY AMAZON TURK HUMAN LABELS\n",
    "#ARE MY HUMAN LABELS RELIABLE????\n",
    "\n",
    "agree = matching_predictions.sentiment.value_counts().values \n",
    "disagree = mismatching_predictions.sentiment.value_counts().values \n",
    "total_arr = agree + disagree\n",
    "precision = agree/total_arr\n",
    "denom = 5*[5080]\n",
    "accuracy = agree/denom\n",
    "columns = matching_predictions.sentiment.value_counts().index\n",
    "df_table = pd.DataFrame(data=[precision, accuracy], columns=columns)\n",
    "df_table = df_table.apply(lambda x: round(x,4))\n",
    "df_table.rename({0: 'precision', 1: 'accuracy'},\n",
    "                inplace = True\n",
    "               )\n",
    "\n",
    "df_table.to_csv(\"data/acc_prec_table.csv\", index=False)\n",
    "\n",
    "df_table.head()"
   ]
  },
  {
   "cell_type": "markdown",
   "metadata": {},
   "source": [
    "![Results Table](images/results_table2.jpg)\n",
    "\n",
    "The precision values explain how many times the machine label correctly line up with the human labels for each aspect/opinion pair when guessing for that appropriate sentiment. That is, if the machine were to guess only for negative sentiment, it was in agreement with humans 35% of the time. The accuracy scores represent how many times the machine were right overall for the entire dataset when predicted a certain class. Due to the nature of the dataset, accuracy scores will be low for a lot of the classes strictly because of class imbalances. Therefore, precision is a better metric for judging the performance of my model. However, there were some major issues with the overal expiremental setup that need to be discussed and anaylzed. "
   ]
  },
  {
   "cell_type": "markdown",
   "metadata": {},
   "source": [
    "#### Reliability of Experimental Setup\n",
    "\n",
    "To quickly visualize the variance among the different Amazon Turk workers assigned to labeling the aspect/opinion pairs, a function was utilized to create a bargraph that displays the different labels each worker voted for each aspect/opinion set that appeared in the dataset more than 10 times. A more statistical approach will be carried out using sum of squares residuals further down in the notebook. It is very apparent that the Amazon turks had a lot of trouble coming to any agreement on sentiment. The task was setup to reward workers to label data as quickly as possible without much safeguard to the quality of the work being submitted other than a quick overview by myself.I am just one poorly funded individual. Without proper funding from a research grant it was dificult to setup a reliable expirement. This cast a large shadow of doubt on the reliabilty of this data to be used as a way to reliably test the accuarcy of my model. In comparison, you can see that the extractor chooses the same sentiment for a unique aspect/opinion pair every single time it shows up in the dataset. While the human data has been revealed to be severely flawed, it has brought up a shining example as to why machine learning may be a better substitute for labeling large amounts of tedius data in the first place."
   ]
  },
  {
   "cell_type": "code",
   "execution_count": 26,
   "metadata": {},
   "outputs": [],
   "source": [
    "#create dataframe for tuple_pairs with more than 10 votes from turk dataframe\n",
    "\n",
    "multi_votes = df_turk['tup_pair'].value_counts()[df_turk['tup_pair'].value_counts() > 10].index\n",
    "\n",
    "df_turk2 = df_turk[df_turk[\"tup_pair\"].isin(multi_votes)].copy()\n",
    "\n",
    "df_turk2.rename({'sentiment_h': 'sentiment'}, \n",
    "                axis=1, \n",
    "                inplace=True\n",
    "               )\n",
    "\n",
    "unique_tup = df_turk2.tup_pair.unique()\n",
    "\n",
    "\n",
    "\n",
    "#create dataframe for tuple_pairs with more than 10 votes from extractor dataframe \n",
    "\n",
    "multi_votes_e = df_senti_predicted['tup_pair'].value_counts()[df_senti_predicted['tup_pair'].value_counts() > 10].index\n",
    "\n",
    "df_ex = df_senti_predicted[df_senti_predicted[\"tup_pair\"].isin(multi_votes_e)].copy()\n",
    "\n",
    "unique_tup_e = df_ex.tup_pair.unique()"
   ]
  },
  {
   "cell_type": "markdown",
   "metadata": {},
   "source": [
    "## Partition Sum Of Squares to Measure Disperson of Turk Data\n",
    "\n",
    "[Partition Sum of Squares](https://en.wikipedia.org/wiki/Partition_of_sums_of_squares)\n",
    "\n",
    "\n",
    "For simplicity, sum of square statistical measurements were calculated for each aspect in the human labeled data as well as the machine labeled data that had more than 10 votes. This was chosen over entropy as a calculation for dispersion as the \"sum of squares\" for these data is a close enough estimate for the variance in categorical data for this expirement. Every single human labeled aspect with multiple aspects had a non-zero value for residual sum of squares, while every machine labeled aspect had zero residual error. This shows the difference in variance statistically and mathmatically very clearly between the two and shows the unreliability of the turk data. See the figure below for the total range in the residual sum of square values for the tested aspects in each group."
   ]
  },
  {
   "cell_type": "code",
   "execution_count": 27,
   "metadata": {
    "scrolled": true
   },
   "outputs": [
    {
     "ename": "AttributeError",
     "evalue": "'PlotAccessor' object has no attribute 'hbar'",
     "output_type": "error",
     "traceback": [
      "\u001b[0;31m---------------------------------------------------------------------------\u001b[0m",
      "\u001b[0;31mAttributeError\u001b[0m                            Traceback (most recent call last)",
      "\u001b[0;32m<ipython-input-27-0b2792939873>\u001b[0m in \u001b[0;36m<module>\u001b[0;34m\u001b[0m\n\u001b[1;32m      1\u001b[0m \u001b[0;32mfor\u001b[0m \u001b[0mtup\u001b[0m \u001b[0;32min\u001b[0m \u001b[0munique_tup_e\u001b[0m\u001b[0;34m:\u001b[0m\u001b[0;34m\u001b[0m\u001b[0;34m\u001b[0m\u001b[0m\n\u001b[0;32m----> 2\u001b[0;31m     \u001b[0mvariance_visualizer\u001b[0m\u001b[0;34m(\u001b[0m\u001b[0mdf_ex\u001b[0m\u001b[0;34m,\u001b[0m \u001b[0mtup\u001b[0m\u001b[0;34m)\u001b[0m\u001b[0;34m\u001b[0m\u001b[0;34m\u001b[0m\u001b[0m\n\u001b[0m",
      "\u001b[0;32m<ipython-input-10-797fb2626455>\u001b[0m in \u001b[0;36mvariance_visualizer\u001b[0;34m(df, tup)\u001b[0m\n\u001b[1;32m    427\u001b[0m \u001b[0;34m\u001b[0m\u001b[0m\n\u001b[1;32m    428\u001b[0m \u001b[0;34m\u001b[0m\u001b[0m\n\u001b[0;32m--> 429\u001b[0;31m     \u001b[0max\u001b[0m \u001b[0;34m=\u001b[0m \u001b[0mgraph_s\u001b[0m\u001b[0;34m.\u001b[0m\u001b[0mplot\u001b[0m\u001b[0;34m.\u001b[0m\u001b[0mhbar\u001b[0m\u001b[0;34m(\u001b[0m\u001b[0;34m)\u001b[0m\u001b[0;34m\u001b[0m\u001b[0;34m\u001b[0m\u001b[0m\n\u001b[0m\u001b[1;32m    430\u001b[0m \u001b[0;34m\u001b[0m\u001b[0m\n\u001b[1;32m    431\u001b[0m     \u001b[0;31m#ADD TOTAL NUMBER OF VOTES\u001b[0m\u001b[0;34m\u001b[0m\u001b[0;34m\u001b[0m\u001b[0;34m\u001b[0m\u001b[0m\n",
      "\u001b[0;31mAttributeError\u001b[0m: 'PlotAccessor' object has no attribute 'hbar'"
     ]
    },
    {
     "data": {
      "text/plain": [
       "<Figure size 576x432 with 0 Axes>"
      ]
     },
     "metadata": {},
     "output_type": "display_data"
    }
   ],
   "source": [
    "for tup in unique_tup_e:\n",
    "    variance_visualizer(df_ex, tup)"
   ]
  },
  {
   "cell_type": "code",
   "execution_count": 30,
   "metadata": {},
   "outputs": [
    {
     "data": {
      "image/png": "[encoded data removed]",
      "text/plain": [
       "<Figure size 576x432 with 1 Axes>"
      ]
     },
     "metadata": {
      "needs_background": "light"
     },
     "output_type": "display_data"
    },
    {
     "data": {
      "image/png": "[encoded data removed]",
      "text/plain": [
       "<Figure size 576x432 with 1 Axes>"
      ]
     },
     "metadata": {
      "needs_background": "light"
     },
     "output_type": "display_data"
    },
    {
     "data": {
      "image/png": "[encoded data removed]",
      "text/plain": [
       "<Figure size 576x432 with 1 Axes>"
      ]
     },
     "metadata": {
      "needs_background": "light"
     },
     "output_type": "display_data"
    },
    {
     "data": {
      "image/png": "[encoded data removed]",
      "text/plain": [
       "<Figure size 576x432 with 1 Axes>"
      ]
     },
     "metadata": {
      "needs_background": "light"
     },
     "output_type": "display_data"
    },
    {
     "data": {
      "image/png": "[encoded data removed]",
      "text/plain": [
       "<Figure size 576x432 with 1 Axes>"
      ]
     },
     "metadata": {
      "needs_background": "light"
     },
     "output_type": "display_data"
    },
    {
     "data": {
      "image/png": "[encoded data removed]",
      "text/plain": [
       "<Figure size 576x432 with 1 Axes>"
      ]
     },
     "metadata": {
      "needs_background": "light"
     },
     "output_type": "display_data"
    },
    {
     "data": {
      "image/png": "[encoded data removed]",
      "text/plain": [
       "<Figure size 576x432 with 1 Axes>"
      ]
     },
     "metadata": {
      "needs_background": "light"
     },
     "output_type": "display_data"
    },
    {
     "data": {
      "image/png": "[encoded data removed]",
      "text/plain": [
       "<Figure size 576x432 with 1 Axes>"
      ]
     },
     "metadata": {
      "needs_background": "light"
     },
     "output_type": "display_data"
    },
    {
     "data": {
      "image/png": "[encoded data removed]",
      "text/plain": [
       "<Figure size 576x432 with 1 Axes>"
      ]
     },
     "metadata": {
      "needs_background": "light"
     },
     "output_type": "display_data"
    },
    {
     "data": {
      "image/png": "[encoded data removed]",
      "text/plain": [
       "<Figure size 576x432 with 1 Axes>"
      ]
     },
     "metadata": {
      "needs_background": "light"
     },
     "output_type": "display_data"
    },
    {
     "data": {
      "image/png": "[encoded data removed]",
      "text/plain": [
       "<Figure size 576x432 with 1 Axes>"
      ]
     },
     "metadata": {
      "needs_background": "light"
     },
     "output_type": "display_data"
    },
    {
     "data": {
      "image/png": "[encoded data removed]",
      "text/plain": [
       "<Figure size 576x432 with 1 Axes>"
      ]
     },
     "metadata": {
      "needs_background": "light"
     },
     "output_type": "display_data"
    },
    {
     "data": {
      "image/png": "[encoded data removed]",
      "text/plain": [
       "<Figure size 576x432 with 1 Axes>"
      ]
     },
     "metadata": {
      "needs_background": "light"
     },
     "output_type": "display_data"
    },
    {
     "data": {
      "image/png": "[encoded data removed]",
      "text/plain": [
       "<Figure size 576x432 with 1 Axes>"
      ]
     },
     "metadata": {
      "needs_background": "light"
     },
     "output_type": "display_data"
    },
    {
     "data": {
      "image/png": "[encoded data removed]",
      "text/plain": [
       "<Figure size 576x432 with 1 Axes>"
      ]
     },
     "metadata": {
      "needs_background": "light"
     },
     "output_type": "display_data"
    },
    {
     "data": {
      "image/png": "[encoded data removed]",
      "text/plain": [
       "<Figure size 576x432 with 1 Axes>"
      ]
     },
     "metadata": {
      "needs_background": "light"
     },
     "output_type": "display_data"
    }
   ],
   "source": [
    "for tup in unique_tup:\n",
    "    variance_visualizer(df_turk2, tup)"
   ]
  },
  {
   "cell_type": "code",
   "execution_count": 31,
   "metadata": {},
   "outputs": [],
   "source": [
    "for tup in unique_tup_e:\n",
    "     sum_squares(df_ex, tup)"
   ]
  },
  {
   "cell_type": "code",
   "execution_count": null,
   "metadata": {},
   "outputs": [],
   "source": [
    "emp_list = []\n",
    "for tup in unique_tup:\n",
    "    emp_list.append(sum_squares(df_turk2, tup))    \n",
    "    \n",
    "    \n",
    "df_turk_var = pd.DataFrame(emp_list, columns=['asp', 'sum_of_squares'])  \n",
    "df_turk_var.to_csv('data/turk_var1.csv')\n",
    "\n",
    "emp_list = []\n",
    "for tup in unique_tup_e:\n",
    "     sum_squares(df_ex, tup)\n",
    "\n",
    "df_ex_var = pd.DataFrame(emp_list, columns=['asp', 'sum_of_squares'])  \n",
    "df_ex_var.to_csv('data/human_var1.csv')"
   ]
  },
  {
   "cell_type": "code",
   "execution_count": null,
   "metadata": {},
   "outputs": [],
   "source": [
    "df_turk_var"
   ]
  },
  {
   "cell_type": "code",
   "execution_count": null,
   "metadata": {},
   "outputs": [],
   "source": [
    "# all values sum to zero\n",
    "\n",
    "df_ex_var "
   ]
  },
  {
   "cell_type": "markdown",
   "metadata": {},
   "source": [
    "### Further Discussion and Future Work\n",
    "\n",
    "1) Due to a lack of funding from grants and some other issues in expiremental design, I feel the most appropriate next step would be to repeat the experiment with more carefully collected labeled data. Increasing the reward per label and the requirements for submission (such as proving a proficiency in english) I believe cam substantiely improve the quality of the human labeled data and reduce the variance in this data significantly. Sourcing reliable test data is the number one priority in continuing future work for this project.\n",
    "\n",
    "2) Integrate into AWS for scaling\n",
    "\n",
    "3) integrate into a SQL server for data management\n",
    "\n",
    "4) incoroprate a flash based UI for viewing results at scale"
   ]
  },
  {
   "cell_type": "markdown",
   "metadata": {},
   "source": [
    "# THANK YOU\n",
    "\n",
    "\n",
    "<nav> \n",
    "<a href=\"https://dev.to/ddey117\">Blog</a> |\n",
    "<a href=\"https://github.com/ddey117/ABSA_Project_4\">GitHub</a> |                             \n",
    "<a href=\"https://github.com/ddey117/preprocess_ddey117\">PreProcess Github</a> \n",
    "</nav>\n",
    "\n",
    "\n",
    "Dylan Dey\n",
    "\n",
    "email: ddey2985@gmail.com"
   ]
  },
  {
   "cell_type": "markdown",
   "metadata": {},
   "source": [
    "![Variance Graph Example](images/variance_graph_example.jpg)"
   ]
  },
  {
   "cell_type": "markdown",
   "metadata": {},
   "source": [
    "# Appendix"
   ]
  },
  {
   "cell_type": "markdown",
   "metadata": {},
   "source": [
    "## Text Data Preprocessing and Cleaning toolkit"
   ]
  },
  {
   "cell_type": "markdown",
   "metadata": {},
   "source": [
    "### Word Counts"
   ]
  },
  {
   "cell_type": "code",
   "execution_count": null,
   "metadata": {},
   "outputs": [],
   "source": [
    "ls data"
   ]
  },
  {
   "cell_type": "code",
   "execution_count": null,
   "metadata": {},
   "outputs": [],
   "source": [
    "df = df.sample(100)"
   ]
  },
  {
   "cell_type": "code",
   "execution_count": null,
   "metadata": {},
   "outputs": [],
   "source": [
    "len('this is text'.split())"
   ]
  },
  {
   "cell_type": "code",
   "execution_count": null,
   "metadata": {},
   "outputs": [],
   "source": [
    "df['word_counts'] = df['review_body'].apply(lambda x: len(str(x).split()))"
   ]
  },
  {
   "cell_type": "code",
   "execution_count": null,
   "metadata": {},
   "outputs": [],
   "source": [
    "df.sample(5)"
   ]
  },
  {
   "cell_type": "code",
   "execution_count": null,
   "metadata": {},
   "outputs": [],
   "source": [
    "df['word_counts'].max()"
   ]
  },
  {
   "cell_type": "code",
   "execution_count": null,
   "metadata": {},
   "outputs": [],
   "source": [
    "df['word_counts'].min()"
   ]
  },
  {
   "cell_type": "code",
   "execution_count": null,
   "metadata": {},
   "outputs": [],
   "source": [
    "df[df['word_counts']==1]"
   ]
  },
  {
   "cell_type": "markdown",
   "metadata": {},
   "source": [
    "### Characters Count"
   ]
  },
  {
   "cell_type": "code",
   "execution_count": null,
   "metadata": {},
   "outputs": [],
   "source": [
    "len('this is')"
   ]
  },
  {
   "cell_type": "code",
   "execution_count": null,
   "metadata": {},
   "outputs": [],
   "source": [
    "def char_counts(x):\n",
    "    s = x.split()\n",
    "    x = ''.join(s)\n",
    "    return len(x)"
   ]
  },
  {
   "cell_type": "code",
   "execution_count": null,
   "metadata": {},
   "outputs": [],
   "source": [
    "char_counts('this is')"
   ]
  },
  {
   "cell_type": "code",
   "execution_count": null,
   "metadata": {},
   "outputs": [],
   "source": [
    "df['char_counts'] = df['review_body'].apply(lambda x: char_counts(str(x)))"
   ]
  },
  {
   "cell_type": "code",
   "execution_count": null,
   "metadata": {},
   "outputs": [],
   "source": [
    "df.sample(5)"
   ]
  },
  {
   "cell_type": "markdown",
   "metadata": {},
   "source": [
    "### Average Word Length"
   ]
  },
  {
   "cell_type": "code",
   "execution_count": null,
   "metadata": {},
   "outputs": [],
   "source": [
    "x = 'this is' # 6/2 = 3\n",
    "y = 'thankyou guys' # 12/2 = 6"
   ]
  },
  {
   "cell_type": "code",
   "execution_count": null,
   "metadata": {},
   "outputs": [],
   "source": [
    "df['avg_word_len'] = df['char_counts']/df['word_counts']"
   ]
  },
  {
   "cell_type": "code",
   "execution_count": null,
   "metadata": {},
   "outputs": [],
   "source": [
    "df.sample(4)"
   ]
  },
  {
   "cell_type": "markdown",
   "metadata": {},
   "source": [
    "### Stop Words Count "
   ]
  },
  {
   "cell_type": "code",
   "execution_count": null,
   "metadata": {},
   "outputs": [],
   "source": [
    "print(stopwords)"
   ]
  },
  {
   "cell_type": "code",
   "execution_count": null,
   "metadata": {},
   "outputs": [],
   "source": [
    "len(stopwords)"
   ]
  },
  {
   "cell_type": "code",
   "execution_count": null,
   "metadata": {},
   "outputs": [],
   "source": [
    "x = 'this is the text data'"
   ]
  },
  {
   "cell_type": "code",
   "execution_count": null,
   "metadata": {},
   "outputs": [],
   "source": [
    "x.split()"
   ]
  },
  {
   "cell_type": "code",
   "execution_count": null,
   "metadata": {},
   "outputs": [],
   "source": [
    "[t for t in x.split() if t in stopwords]"
   ]
  },
  {
   "cell_type": "code",
   "execution_count": null,
   "metadata": {},
   "outputs": [],
   "source": [
    "len([t for t in x.split() if t in stopwords])"
   ]
  },
  {
   "cell_type": "code",
   "execution_count": null,
   "metadata": {},
   "outputs": [],
   "source": [
    "df['stop_words_len'] = df['tweets'].apply(lambda x: len([t for t in x.split() if t in stopwords]))"
   ]
  },
  {
   "cell_type": "code",
   "execution_count": null,
   "metadata": {},
   "outputs": [],
   "source": [
    "df.sample(5)"
   ]
  },
  {
   "cell_type": "markdown",
   "metadata": {},
   "source": [
    "### Count #HashTags and @Mentions "
   ]
  },
  {
   "cell_type": "code",
   "execution_count": null,
   "metadata": {},
   "outputs": [],
   "source": [
    "x = 'this is #hashtag and this is @mention'"
   ]
  },
  {
   "cell_type": "code",
   "execution_count": null,
   "metadata": {},
   "outputs": [],
   "source": [
    "x.split()"
   ]
  },
  {
   "cell_type": "code",
   "execution_count": null,
   "metadata": {},
   "outputs": [],
   "source": [
    "[t for t in x.split() if t.startswith('@')]"
   ]
  },
  {
   "cell_type": "code",
   "execution_count": null,
   "metadata": {},
   "outputs": [],
   "source": [
    "len([t for t in x.split() if t.startswith('@')])"
   ]
  },
  {
   "cell_type": "code",
   "execution_count": null,
   "metadata": {},
   "outputs": [],
   "source": [
    "df['hashtags_count'] = df['review_body'].apply(lambda x: len([t for t in x.split() if t.startswith('#')]))"
   ]
  },
  {
   "cell_type": "code",
   "execution_count": null,
   "metadata": {},
   "outputs": [],
   "source": [
    "df['mentions_count'] = df['review_body'].apply(lambda x: len([t for t in x.split() if t.startswith('@')]))"
   ]
  },
  {
   "cell_type": "code",
   "execution_count": null,
   "metadata": {},
   "outputs": [],
   "source": [
    "df.sample(5)"
   ]
  },
  {
   "cell_type": "markdown",
   "metadata": {},
   "source": [
    "### If numeric digits are present in tweets"
   ]
  },
  {
   "cell_type": "code",
   "execution_count": null,
   "metadata": {},
   "outputs": [],
   "source": [
    "x = 'this is 1 and 2'"
   ]
  },
  {
   "cell_type": "code",
   "execution_count": null,
   "metadata": {},
   "outputs": [],
   "source": [
    "x.split()"
   ]
  },
  {
   "cell_type": "code",
   "execution_count": null,
   "metadata": {},
   "outputs": [],
   "source": [
    "x.split()[3].isdigit()"
   ]
  },
  {
   "cell_type": "code",
   "execution_count": null,
   "metadata": {},
   "outputs": [],
   "source": [
    "[t for t in x.split() if t.isdigit()]"
   ]
  },
  {
   "cell_type": "code",
   "execution_count": null,
   "metadata": {},
   "outputs": [],
   "source": [
    "df['numerics_count'] = df['review_body'].apply(lambda x: len([t for t in x.split() if t.isdigit()]))"
   ]
  },
  {
   "cell_type": "code",
   "execution_count": null,
   "metadata": {},
   "outputs": [],
   "source": [
    "df.sample(5)"
   ]
  },
  {
   "cell_type": "markdown",
   "metadata": {},
   "source": [
    "### UPPER case words count "
   ]
  },
  {
   "cell_type": "code",
   "execution_count": null,
   "metadata": {},
   "outputs": [],
   "source": [
    "x = 'I AM HAPPY'\n",
    "y = 'i am happy'"
   ]
  },
  {
   "cell_type": "code",
   "execution_count": null,
   "metadata": {},
   "outputs": [],
   "source": [
    "[t for t in x.split() if t.isupper()]"
   ]
  },
  {
   "cell_type": "code",
   "execution_count": null,
   "metadata": {},
   "outputs": [],
   "source": [
    "df['upper_counts'] = df['review_body'].apply(lambda x: len([t for t in x.split() if t.isupper()]))"
   ]
  },
  {
   "cell_type": "code",
   "execution_count": null,
   "metadata": {},
   "outputs": [],
   "source": [
    "df.sample(5)"
   ]
  },
  {
   "cell_type": "markdown",
   "metadata": {},
   "source": [
    "### Lower Case Conversion "
   ]
  },
  {
   "cell_type": "code",
   "execution_count": null,
   "metadata": {},
   "outputs": [],
   "source": [
    "x = 'this is Text'"
   ]
  },
  {
   "cell_type": "code",
   "execution_count": null,
   "metadata": {},
   "outputs": [],
   "source": [
    "x.lower()"
   ]
  },
  {
   "cell_type": "code",
   "execution_count": null,
   "metadata": {},
   "outputs": [],
   "source": [
    "x = 45.0\n",
    "str(x).lower()"
   ]
  },
  {
   "cell_type": "code",
   "execution_count": null,
   "metadata": {},
   "outputs": [],
   "source": [
    "df['review_body'] = df['review_body'].apply(lambda x: str(x).lower())"
   ]
  },
  {
   "cell_type": "code",
   "execution_count": null,
   "metadata": {},
   "outputs": [],
   "source": [
    "df.sample(5)"
   ]
  },
  {
   "cell_type": "markdown",
   "metadata": {},
   "source": [
    "### Contraction to Expansion "
   ]
  },
  {
   "cell_type": "code",
   "execution_count": null,
   "metadata": {},
   "outputs": [],
   "source": [
    "#created using wikipedia\n",
    "\n",
    "contractions = {\n",
    "\"a'ight\": \"alright\",\n",
    "\"ain't\": \"am not\",\n",
    "\"amn't\": \"am not\",\n",
    "\"arencha\": \"are not you\", \n",
    "\"aren't\": \"are not\",\n",
    "\"‘bout\": \"about\",\n",
    "\"can't\": \"cannot\",\n",
    "\"cap’n\": \"captain\",\n",
    "\"'cause\": \"because\",\n",
    "\"’cept\" : \"except\",\n",
    "\"could've\": \"could have\",\n",
    "\"couldn't\": \"could not\",\n",
    "\"couldn't've\": \"could not have\",\n",
    "\"cuppa\": \"cup of\",\n",
    "\"dammit\": \"damn it\",\n",
    "\"daren't\": \"dared not\",\n",
    "\"daresn't\": \"dare not\",\n",
    "\"dasn't\": \"dare not\",\n",
    "\"didn't\": \"did not\",\n",
    "\"doesn't\": \"does not\",\n",
    "\"don't\": \"do not\",\n",
    "\"dunno\" : \"do not know\",\n",
    "\"d'ye\": \"do you\",\n",
    "\"e'en\": \"even\",\n",
    "\"e'er\": \"ever\",\n",
    "\"'em\": \"them\",\n",
    "\"everybody's\": \"everybody is\",\n",
    "\"everyone's\": \"everyone is\",\n",
    "\"finna\": \"fixing to\",\n",
    "\"fo’c’sle\": \"forecastle\",\n",
    "\"’gainst\": \"against\",\n",
    "\"g'day\": \"good day\",\n",
    "\"gimme\": \"give me\",\n",
    "\"giv'n\": \"given\",\n",
    "\"gi'\": \"give us\",\n",
    "\"gonna\": \"going to\",\n",
    "\"gon't\": \"go not\" ,\n",
    "\"gotta\": \"got to\",\n",
    "\"hadn't\": \"had not\",\n",
    "\"had've\": \"had have\",\n",
    "\"hasn't\": \"has not\",\n",
    "\"haven't\": \"have not\",\n",
    "\"he'd\":  \"he would\",\n",
    "\"he'll\": \"he will\",\n",
    "\"helluva\": \"hell of a\",\n",
    "\"he's\": \"he is\",\n",
    "\"here's\": \"here is\",\n",
    "\"how'd\" : \"how would\",\n",
    "\"howdy\" : \"how do you fare\",\n",
    "\"how'll\": \"how will\",\n",
    "\"how're\": \"how are\",\n",
    "\"how's\": \"how is\",\n",
    "\"i'd\": \"i would\",\n",
    "\"i'd've\": \"i would have\",\n",
    "\"i'd'nt\": \"i would not\",\n",
    "\"i'd'nt've\": \"i would not have\",\n",
    "\"i'll\": \"i will\",\n",
    "\"i'm\": \"i am\",\n",
    "\"imma\": \"i am about to\",\n",
    "\"i'm'o\": \"i am going to\",\n",
    "\"innit\": \"is it not it\",\n",
    "\"i've\": \"i have\",\n",
    "\"isn't\": \"is not\",\n",
    "\"it'd\": \"it would\",\n",
    "\"it'll\": \"it will\",\n",
    "\"it's\": \"it is\",\n",
    "\"idunno\": \"i do not know\",\n",
    "\"kinda\" : \"kind of\",\n",
    "\"let's\": \"let us\",\n",
    "\"loven't\": \"love not\", \n",
    "\"ma'am\": \"madam\",\n",
    "\"mayn't\": \"may not\",\n",
    "\"may've\": \"may have\",\n",
    "\"methinks\":\" i think\",\n",
    "\"mightn't\": \"might not\",\n",
    "\"might've\": \"might have\",\n",
    "\"mustn't\": \"must not\",\n",
    "\"mustn't've\": \"must not have\",\n",
    "\"must've\": \"must have\",\n",
    "\"‘neath\": \"beneath\",\n",
    "\"needn't\": \"need not\",\n",
    "\" nal \": \" and all \",\n",
    "\"ne'er\": \"never\",\n",
    "\" o'er\" : \" over \",\n",
    "\" ol '\": \" old \",\n",
    "\"oughtn'\": \"ought not\",\n",
    "\"‘round\": \"around\",\n",
    "\"shalln't\": \"shall not\", \n",
    "\"shan't\": \"shall not\",\n",
    "\"she'd\": \"she would\",\n",
    "\"she'll\": \"he will\",\n",
    "\"she's\": \"she is\",\n",
    "\"should've\": \"should have\",\n",
    "\"shouldn't\": \"should not\",\n",
    "\"shouldn't've\": \"should not have\",\n",
    "\"somebody's\": \"somebody is\",\n",
    "\"someone's\": \"someone is\", \n",
    "\"something's\": \"something is\",\n",
    "\"so're\": \"so are\", \n",
    "\"so's\": \"so is\", \n",
    "\"so've\": \"so have\",\n",
    "\"that'll\": \"that shall\", \n",
    "\"that're\": \"that are\",\n",
    "\"that's\": \"that is\",\n",
    "\"that'd\": \"that would\",\n",
    "\"there'd\": \"there had\",\n",
    "\"there'll\": \"there shall\", \n",
    "\"there're\": \"there are\",\n",
    "\"there's\": \"there is\",\n",
    "\"these're\": \"these are\",\n",
    "\"these've\": \"these have\",\n",
    "\"they'd\": \"they would\",\n",
    "\"they'll\": \"they will\",\n",
    "\"they're\": \"they are\",\n",
    "\"they've\": \"they have\",\n",
    "\"this's\": \"this is\",\n",
    "\"those're\": \"those are\",\n",
    "\"those've\": \"those have\",\n",
    "\"'thout\": \"without\",\n",
    "\"’til\": \"until\",\n",
    "\"'tis\": \"it is\",\n",
    "\"to've\": \"to have\",\n",
    "\"'twas\": \"it was\",\n",
    "\"'tween\": \"between\",\n",
    "\"'twere\": \"it were\",\n",
    "\"w'all\": \"we all\",\n",
    "\"wanna\": \"want to\",\n",
    "\"wasn't\": \"was not\",\n",
    "\" we'd \": \" we would \",\n",
    "\"we'd've\": \"we would have\",\n",
    "\"we'll\": \"we will\",\n",
    "\"we're\": \"we are\",\n",
    "\"we've\": \"we have\",\n",
    "\"weren't\": \"were not\",\n",
    "\"whatcha\": \"what are you\", \n",
    "\"what'd\": \"what did\",\n",
    "\"what'll\": \"what will\",\n",
    "\"what're\": \"what are\",\n",
    "\"what's\": \"what is\",\n",
    "\"what've\": \"what have\",\n",
    "\"when's\": \"when is\",\n",
    "\"where'd\": \"where did\",\n",
    "\"where'll\": \"where will\",\n",
    "\"where're\": \"where are\",\n",
    "\"where's\": \"where is\",\n",
    "\"where've\": \"where have\",\n",
    "\"which'd\": \"which would\",\n",
    "\"which'll\": \"which will\",\n",
    "\"which're\": \"which are\",\n",
    "\"which's\": \"which is\",\n",
    "\"which've\": \"which have\",\n",
    "\"who'd\": \"who would\",\n",
    "\"who'd've\": \"who would have\",\n",
    "\"who'll\": \"who will\",\n",
    "\"who're\":\" who are\",\n",
    "\"who's\": \"who is \",\n",
    "\"who've\": \"who have\",\n",
    "\"why'd\": \"why did\",\n",
    "\"why're\": \"why are\",\n",
    "\"why's\": \"why has \",\n",
    "\"willn't\": \"will not\",\n",
    "\"won't\": \"will not\",\n",
    "\"wonnot\": \"will not\", \n",
    "\"would've\": \"would have\",\n",
    "\"wouldn't\": \"would not\",\n",
    "\"wouldn't've\": \"would not have\",\n",
    "\"y'all\": \"you all \",\n",
    "\"y'all'd've\": \"you all would have\",\n",
    "\"y'all'd'n't've\": \"you all would not have\", \n",
    "\"y'all're\": \"you all are\" ,\n",
    "\"y'all'ren't\": \"you all are not\",\n",
    "\" y'at \": \" you at \",\n",
    "\"yes'm\": \"yes madam\",\n",
    "\"y'know\": \"you know\",\n",
    "\" yessir \": \" yes sir \",\n",
    "\"you'd\": \"you would\",\n",
    "\"you'll\": \"you will\",\n",
    "\"you're\": \"you are\",\n",
    "\"you've\": \"you have\",\n",
    "\"when'd\": \"when did\",\n",
    "\"willn't\": \"will not\",\n",
    "#append extra web lingo \n",
    "\" u \": \" you \",\n",
    "\" ur \": \" your \",\n",
    "\" n \": \" and \",\n",
    "\" dis \": \" this \",\n",
    "\" bak \": \" back \",\n",
    "\" brng \": \" bring \",\n",
    "\"sux\": \"sucks\",\n",
    "\"gr8\": \"great\",\n",
    "\" amzing \": \" amazing \",\n",
    "\" k \": \"ok\",\n",
    "\" kk \": \"ok\",\n",
    "\" il \": \"i will\"}"
   ]
  },
  {
   "cell_type": "code",
   "execution_count": null,
   "metadata": {},
   "outputs": [],
   "source": [
    "x = \"i'm don't he'll\" # \"i am do not he will\""
   ]
  },
  {
   "cell_type": "code",
   "execution_count": null,
   "metadata": {},
   "outputs": [],
   "source": [
    "def cont_to_exp(x):\n",
    "    if type(x) is str:\n",
    "        for key in contractions:\n",
    "            value = contractions[key]\n",
    "            x = x.replace(key, value)\n",
    "        return x\n",
    "    else:\n",
    "        return x\n",
    "    "
   ]
  },
  {
   "cell_type": "code",
   "execution_count": null,
   "metadata": {},
   "outputs": [],
   "source": [
    "cont_to_exp(x)"
   ]
  },
  {
   "cell_type": "code",
   "execution_count": null,
   "metadata": {},
   "outputs": [],
   "source": [
    "%%timeit\n",
    "df['review_body'] = df['review_body'].apply(lambda x: cont_to_exp(x))"
   ]
  },
  {
   "cell_type": "markdown",
   "metadata": {},
   "source": [
    "### Count and Remove Emails "
   ]
  },
  {
   "cell_type": "code",
   "execution_count": null,
   "metadata": {},
   "outputs": [],
   "source": [
    "import re"
   ]
  },
  {
   "cell_type": "code",
   "execution_count": null,
   "metadata": {},
   "outputs": [],
   "source": [
    "df[df['review_body'].str.contains('hotmail.com')]['treview_body'].apply(print)"
   ]
  },
  {
   "cell_type": "code",
   "execution_count": null,
   "metadata": {},
   "outputs": [],
   "source": [
    "x = '@securerecs arghh me please  markbradbury_16@hotmail.com'"
   ]
  },
  {
   "cell_type": "code",
   "execution_count": null,
   "metadata": {},
   "outputs": [],
   "source": [
    "re.findall(r'([a-z0-9+._-]+@[a-z0-9+._-]+\\.[a-z0-9+_-]+)', x)"
   ]
  },
  {
   "cell_type": "code",
   "execution_count": null,
   "metadata": {},
   "outputs": [],
   "source": [
    "df['emails'] = df['review_body'].apply(lambda x: re.findall(r'([a-z0-9+._-]+@[a-z0-9+._-]+\\.[a-z0-9+_-]+)', x))"
   ]
  },
  {
   "cell_type": "code",
   "execution_count": null,
   "metadata": {},
   "outputs": [],
   "source": [
    "df['emails_count'] = df['emails'].apply(lambda x: len(x))"
   ]
  },
  {
   "cell_type": "code",
   "execution_count": null,
   "metadata": {},
   "outputs": [],
   "source": [
    "df[df['emails_count']>0]"
   ]
  },
  {
   "cell_type": "code",
   "execution_count": null,
   "metadata": {},
   "outputs": [],
   "source": [
    "re.sub(r'([a-z0-9+._-]+@[a-z0-9+._-]+\\.[a-z0-9+_-]+)',\"\", x)"
   ]
  },
  {
   "cell_type": "code",
   "execution_count": null,
   "metadata": {},
   "outputs": [],
   "source": [
    "df['review_body'] = df['review_body'].apply(lambda x: re.sub(r'([a-z0-9+._-]+@[a-z0-9+._-]+\\.[a-z0-9+_-]+)',\"\", x))"
   ]
  },
  {
   "cell_type": "code",
   "execution_count": null,
   "metadata": {},
   "outputs": [],
   "source": [
    "df[df['emails_count']>0]"
   ]
  },
  {
   "cell_type": "markdown",
   "metadata": {},
   "source": [
    "### Count URLs and Remove it "
   ]
  },
  {
   "cell_type": "code",
   "execution_count": null,
   "metadata": {},
   "outputs": [],
   "source": [
    "x = 'hi, thanks to watching it. for more visit https://youtube.com/notreal'"
   ]
  },
  {
   "cell_type": "code",
   "execution_count": null,
   "metadata": {},
   "outputs": [],
   "source": [
    "#shh://git@git.com:username/repo.git=riif?%"
   ]
  },
  {
   "cell_type": "code",
   "execution_count": null,
   "metadata": {},
   "outputs": [],
   "source": [
    "re.findall(r'(http|https|ftp|ssh)://([\\w_-]+(?:(?:\\.[\\w_-]+)+))([\\w.,@?^=%&:/~+#-]*[\\w@?^=%&/~+#-])?', x)"
   ]
  },
  {
   "cell_type": "code",
   "execution_count": null,
   "metadata": {},
   "outputs": [],
   "source": [
    "df['url_flags'] = df['review_body'].apply(lambda x: len(re.findall(r'(http|https|ftp|ssh)://([\\w_-]+(?:(?:\\.[\\w_-]+)+))([\\w.,@?^=%&:/~+#-]*[\\w@?^=%&/~+#-])?', x)))"
   ]
  },
  {
   "cell_type": "code",
   "execution_count": null,
   "metadata": {},
   "outputs": [],
   "source": [
    "df[df['url_flags']>0].sample(5)"
   ]
  },
  {
   "cell_type": "code",
   "execution_count": null,
   "metadata": {},
   "outputs": [],
   "source": [
    "x"
   ]
  },
  {
   "cell_type": "code",
   "execution_count": null,
   "metadata": {},
   "outputs": [],
   "source": [
    "re.sub(r'(http|https|ftp|ssh)://([\\w_-]+(?:(?:\\.[\\w_-]+)+))([\\w.,@?^=%&:/~+#-]*[\\w@?^=%&/~+#-])?', '' , x)"
   ]
  },
  {
   "cell_type": "code",
   "execution_count": null,
   "metadata": {},
   "outputs": [],
   "source": [
    "df['review_body'] = df['review_body'].apply(lambda x: re.sub(r'(http|https|ftp|ssh)://([\\w_-]+(?:(?:\\.[\\w_-]+)+))([\\w.,@?^=%&:/~+#-]*[\\w@?^=%&/~+#-])?', '' , x))"
   ]
  },
  {
   "cell_type": "code",
   "execution_count": null,
   "metadata": {},
   "outputs": [],
   "source": [
    "df.sample(5)"
   ]
  },
  {
   "cell_type": "markdown",
   "metadata": {},
   "source": [
    "### Remove RT "
   ]
  },
  {
   "cell_type": "code",
   "execution_count": null,
   "metadata": {},
   "outputs": [],
   "source": [
    "df[df['review_body'].str.contains('rt ')]"
   ]
  },
  {
   "cell_type": "code",
   "execution_count": null,
   "metadata": {},
   "outputs": [],
   "source": [
    "x = \"beautifully smart and simple idea rt @madebyma\""
   ]
  },
  {
   "cell_type": "code",
   "execution_count": null,
   "metadata": {},
   "outputs": [],
   "source": [
    "re.sub(r'rt\\ ', '', x).strip()"
   ]
  },
  {
   "cell_type": "code",
   "execution_count": null,
   "metadata": {},
   "outputs": [],
   "source": [
    "df['review_body'] = df['review_body'].apply(lambda x: re.sub(r'rt\\ ', '', x).strip())"
   ]
  },
  {
   "cell_type": "markdown",
   "metadata": {},
   "source": [
    "### Special Chars removal or punctuation removal "
   ]
  },
  {
   "cell_type": "code",
   "execution_count": null,
   "metadata": {},
   "outputs": [],
   "source": [
    "df.sample(10)"
   ]
  },
  {
   "cell_type": "code",
   "execution_count": null,
   "metadata": {},
   "outputs": [],
   "source": [
    "x = '@mention (cnnmoney) for #sxsw 2011, any comput...'"
   ]
  },
  {
   "cell_type": "code",
   "execution_count": null,
   "metadata": {},
   "outputs": [],
   "source": [
    "re.sub(r'[^\\w ]+', \"\", x)"
   ]
  },
  {
   "cell_type": "code",
   "execution_count": null,
   "metadata": {},
   "outputs": [],
   "source": [
    "df['review_body'] = df['review_body'].apply(lambda x: re.sub(r'[^\\w ]+', \"\", x))"
   ]
  },
  {
   "cell_type": "code",
   "execution_count": null,
   "metadata": {},
   "outputs": [],
   "source": [
    "df.sample(5)"
   ]
  },
  {
   "cell_type": "markdown",
   "metadata": {},
   "source": [
    "## Remove multiple spaces `\"hi   hello    \"`"
   ]
  },
  {
   "cell_type": "code",
   "execution_count": null,
   "metadata": {},
   "outputs": [],
   "source": [
    "x =  'i    like     my       space    but     how are you'"
   ]
  },
  {
   "cell_type": "code",
   "execution_count": null,
   "metadata": {},
   "outputs": [],
   "source": [
    "' '.join(x.split())"
   ]
  },
  {
   "cell_type": "code",
   "execution_count": null,
   "metadata": {},
   "outputs": [],
   "source": [
    "df['review_body'] = df['review_body'].apply(lambda x: ' '.join(x.split()))"
   ]
  },
  {
   "cell_type": "markdown",
   "metadata": {},
   "source": [
    "### Remove HTML tags"
   ]
  },
  {
   "cell_type": "code",
   "execution_count": null,
   "metadata": {},
   "outputs": [],
   "source": [
    "from bs4 import BeautifulSoup"
   ]
  },
  {
   "cell_type": "code",
   "execution_count": null,
   "metadata": {},
   "outputs": [],
   "source": [
    "x = '<html><h1> i love html so much </h1></html>'"
   ]
  },
  {
   "cell_type": "code",
   "execution_count": null,
   "metadata": {},
   "outputs": [],
   "source": [
    "# x.replace('<html><h1>', '').replace('</h1></html>', '') #don't"
   ]
  },
  {
   "cell_type": "code",
   "execution_count": null,
   "metadata": {},
   "outputs": [],
   "source": [
    "BeautifulSoup(x, 'lxml').get_text().strip()"
   ]
  },
  {
   "cell_type": "code",
   "execution_count": null,
   "metadata": {},
   "outputs": [],
   "source": [
    "%%time\n",
    "df['review_body'] = df['review_body'].apply(lambda x: BeautifulSoup(x, 'lxml').get_text().strip())"
   ]
  },
  {
   "cell_type": "markdown",
   "metadata": {},
   "source": [
    "### Remove Accented Chars "
   ]
  },
  {
   "cell_type": "code",
   "execution_count": null,
   "metadata": {},
   "outputs": [],
   "source": [
    "x = 'Áccěntěd těxt'"
   ]
  },
  {
   "cell_type": "code",
   "execution_count": null,
   "metadata": {},
   "outputs": [],
   "source": [
    "import unicodedata"
   ]
  },
  {
   "cell_type": "code",
   "execution_count": null,
   "metadata": {},
   "outputs": [],
   "source": [
    "def remove_accented_chars(x):\n",
    "    x = unicodedata.normalize('NFKD', x).encode('ascii', 'ignore').decode('utf-8', 'ignore')\n",
    "    return x"
   ]
  },
  {
   "cell_type": "code",
   "execution_count": null,
   "metadata": {},
   "outputs": [],
   "source": [
    "remove_accented_chars(x)"
   ]
  },
  {
   "cell_type": "code",
   "execution_count": null,
   "metadata": {},
   "outputs": [],
   "source": [
    "df['review_body'] = df['review_body'].apply(lambda x: remove_accented_chars(x))"
   ]
  },
  {
   "cell_type": "markdown",
   "metadata": {},
   "source": [
    "### Remove Stop Words "
   ]
  },
  {
   "cell_type": "code",
   "execution_count": null,
   "metadata": {},
   "outputs": [],
   "source": [
    "df['review_no_stop'] = df['review_body'].apply(lambda x: ' '.join([t for t in x.split() if t not in stopwords]))"
   ]
  },
  {
   "cell_type": "markdown",
   "metadata": {},
   "source": [
    "### Convert into base or root form of word "
   ]
  },
  {
   "cell_type": "code",
   "execution_count": null,
   "metadata": {},
   "outputs": [],
   "source": [
    "nlp = spacy.load('en_core_web_sm')"
   ]
  },
  {
   "cell_type": "code",
   "execution_count": null,
   "metadata": {},
   "outputs": [],
   "source": [
    "x = 'i having a craved chocolates. what is times? these dogs likes balls'"
   ]
  },
  {
   "cell_type": "code",
   "execution_count": null,
   "metadata": {},
   "outputs": [],
   "source": [
    "def make_to_base(x):\n",
    "    x = str(x)\n",
    "    x_list = []\n",
    "    doc = nlp(x)\n",
    "    \n",
    "    for token in doc:\n",
    "        lemma = token.lemma_\n",
    "        if lemma == '-PRON-' or lemma == 'be':\n",
    "            lemma = token.text\n",
    "\n",
    "        x_list.append(lemma)\n",
    "    return ' '.join(x_list)"
   ]
  },
  {
   "cell_type": "code",
   "execution_count": null,
   "metadata": {},
   "outputs": [],
   "source": [
    "make_to_base(x)"
   ]
  },
  {
   "cell_type": "code",
   "execution_count": null,
   "metadata": {},
   "outputs": [],
   "source": [
    "df['review_body'] = df['review_body'].apply(lambda x: make_to_base(x))"
   ]
  },
  {
   "cell_type": "code",
   "execution_count": null,
   "metadata": {},
   "outputs": [],
   "source": [
    "df.sample(5)"
   ]
  },
  {
   "cell_type": "markdown",
   "metadata": {},
   "source": [
    "### Common words removal "
   ]
  },
  {
   "cell_type": "code",
   "execution_count": null,
   "metadata": {},
   "outputs": [],
   "source": [
    "text = ' '.join(df['review_body'])"
   ]
  },
  {
   "cell_type": "code",
   "execution_count": null,
   "metadata": {},
   "outputs": [],
   "source": [
    "len(text)"
   ]
  },
  {
   "cell_type": "code",
   "execution_count": null,
   "metadata": {},
   "outputs": [],
   "source": [
    "text = text.split()"
   ]
  },
  {
   "cell_type": "code",
   "execution_count": null,
   "metadata": {},
   "outputs": [],
   "source": [
    "len(text)"
   ]
  },
  {
   "cell_type": "code",
   "execution_count": null,
   "metadata": {},
   "outputs": [],
   "source": [
    "freq_comm = pd.Series(text).value_counts()"
   ]
  },
  {
   "cell_type": "code",
   "execution_count": null,
   "metadata": {},
   "outputs": [],
   "source": [
    "f20 = freq_comm[:20]"
   ]
  },
  {
   "cell_type": "code",
   "execution_count": null,
   "metadata": {},
   "outputs": [],
   "source": [
    "f20"
   ]
  },
  {
   "cell_type": "code",
   "execution_count": null,
   "metadata": {},
   "outputs": [],
   "source": [
    "df['review_body'] = df['review_body'].apply(lambda x: ' '.join([t for t in x.split() if t not in f20]))"
   ]
  },
  {
   "cell_type": "code",
   "execution_count": null,
   "metadata": {},
   "outputs": [],
   "source": [
    "df.sample(5)"
   ]
  },
  {
   "cell_type": "markdown",
   "metadata": {},
   "source": [
    "### Rare words removal "
   ]
  },
  {
   "cell_type": "code",
   "execution_count": null,
   "metadata": {},
   "outputs": [],
   "source": [
    "rare40 = freq_comm.tail(40)\n",
    "rare40"
   ]
  },
  {
   "cell_type": "code",
   "execution_count": null,
   "metadata": {},
   "outputs": [],
   "source": [
    "df['review_body'] = df['review_body'].apply(lambda x: ' '.join([t for t in x.split() if t not in rare40]))"
   ]
  },
  {
   "cell_type": "code",
   "execution_count": null,
   "metadata": {},
   "outputs": [],
   "source": [
    "df.sample(5)"
   ]
  },
  {
   "cell_type": "markdown",
   "metadata": {},
   "source": [
    "### Word Cloud Visualization "
   ]
  },
  {
   "cell_type": "code",
   "execution_count": null,
   "metadata": {},
   "outputs": [],
   "source": [
    "# !pip install wordcloud"
   ]
  },
  {
   "cell_type": "code",
   "execution_count": null,
   "metadata": {},
   "outputs": [],
   "source": [
    "from wordcloud import WordCloud\n",
    "import matplotlib.pyplot as plt\n",
    "%matplotlib inline"
   ]
  },
  {
   "cell_type": "code",
   "execution_count": null,
   "metadata": {},
   "outputs": [],
   "source": [
    "text = ' '.join(df['review_body'])"
   ]
  },
  {
   "cell_type": "code",
   "execution_count": null,
   "metadata": {},
   "outputs": [],
   "source": [
    "len(text)"
   ]
  },
  {
   "cell_type": "code",
   "execution_count": null,
   "metadata": {},
   "outputs": [],
   "source": [
    "wc = WordCloud(width=800, height=400).generate(text)\n",
    "plt.imshow(wc)\n",
    "plt.axis('off')\n",
    "plt.show();"
   ]
  },
  {
   "cell_type": "markdown",
   "metadata": {},
   "source": [
    "Other clustering techniques were expiremented with below. "
   ]
  },
  {
   "cell_type": "code",
   "execution_count": null,
   "metadata": {},
   "outputs": [],
   "source": [
    "# from gensim import corpora, models\n",
    "# tfidf = models.TfidfModel(bow_corpus)\n",
    "# corpus_tfidf = tfidf[bow_corpus]\n",
    "# from pprint import pprint\n",
    "# for doc in corpus_tfidf:\n",
    "#     pprint(doc)\n",
    "#     break\n",
    "\n",
    "    \n",
    "# lda_model = gensim.models.LdaMulticore(bow_corpus, num_topics=4, id2word=dictionary, passes=2, workers=2)\n",
    "\n",
    "# for idx, topic in lda_model.print_topics(-1):\n",
    "#     print('Topic: {} \\nWords: {}'.format(idx, topic))\n",
    "    \n",
    "    \n",
    "# lda_model_tfidf = gensim.models.LdaMulticore(corpus_tfidf, num_topics=4, id2word=dictionary, passes=2, workers=4)\n",
    "# for idx, topic in lda_model_tfidf.print_topics(-1):\n",
    "#     print('Topic: {} Word: {}'.format(idx, topic))\n",
    "    \n",
    "    \n",
    "# from sklearn.cluster import DBSCAN\n",
    "# from sklearn import metrics\n",
    "# from sklearn.preprocessing import StandardScaler\n",
    "\n",
    "\n",
    "\n",
    "# from sklearn.cluster import AffinityPropagation\n",
    "\n",
    "\n",
    "# # #############################################################################\n",
    "# # Compute Affinity Propagation\n",
    "# af = AffinityPropagation(random_state=42).fit(word_vecs_scaled)\n",
    "# cluster_centers_indices = af.cluster_centers_indices_\n",
    "# labels = af.labels_\n",
    "\n",
    "# n_clusters_ = len(cluster_centers_indices)\n",
    "\n",
    "# print(\"Estimated number of clusters: %d\" % n_clusters_)\n",
    "\n",
    "\n",
    "\n",
    "\n",
    "# db = DBSCAN(eps=21, min_samples=3).fit(word_vecs_scaled)\n",
    "# core_samples_mask = np.zeros_like(db.labels_, dtype=bool)\n",
    "# core_samples_mask[db.core_sample_indices_] = True\n",
    "# labels = db.labels_\n",
    "\n",
    "# # Number of clusters in labels, ignoring noise if present.\n",
    "# n_clusters_ = len(set(labels)) - (1 if -1 in labels else 0)\n",
    "# n_noise_ = list(labels).count(-1)\n",
    "\n",
    "# print(\"Estimated number of clusters: %d\" % n_clusters_)\n",
    "# print(\"Estimated number of noise points: %d\" % n_noise_)\n",
    "# print(\"Homogeneity: %0.3f\" % metrics.homogeneity_score(labels_true, labels))\n",
    "# print(\"Completeness: %0.3f\" % metrics.completeness_score(labels_true, labels))\n",
    "# print(\"V-measure: %0.3f\" % metrics.v_measure_score(labels_true, labels))\n",
    "# print(\"Adjusted Rand Index: %0.3f\" % metrics.adjusted_rand_score(labels_true, labels))\n",
    "# print(\n",
    "#     \"Adjusted Mutual Information: %0.3f\"\n",
    "#     % metrics.adjusted_mutual_info_score(labels_true, labels)\n",
    "# )\n",
    "# print(\"Silhouette Coefficient: %0.3f\" % metrics.silhouette_score(X, labels))"
   ]
  },
  {
   "cell_type": "code",
   "execution_count": null,
   "metadata": {},
   "outputs": [],
   "source": [
    "# import gensim\n",
    "\n",
    "\n",
    "# def get_aspect_gensim_dict(aspects):\n",
    "#     aspect_freq_map = defaultdict(int)\n",
    "#     for asp in aspects:\n",
    "#         aspect_freq_map[asp] += 1\n",
    "#     return aspect_freq_map\n",
    "\n",
    "\n",
    "# from gensim.utils import simple_preprocess\n",
    "\n",
    "# def preprocess(text):\n",
    "#     result = []\n",
    "#     for token in gensim.utils.simple_preprocess(text):\n",
    "#         if token not in gensim.parsing.preprocessing.STOPWORDS and len(token) > 3:\n",
    "#             result.append(token)\n",
    "#     return result\n",
    "\n",
    "\n",
    "# df_single_aspect['gensim_tokens'] = df_single_aspect['asp'].apply([preprocess])\n",
    "\n",
    "# dictionary = gensim.corpora.Dictionary(df_single_aspect['gensim_tokens'])\n",
    "\n",
    "\n",
    "# count = 0\n",
    "# for k, v in dictionary.iteritems():\n",
    "#     print(k, v)\n",
    "#     count += 1\n",
    "#     if count > 10:\n",
    "#         break\n",
    "        \n",
    "# dictionary.filter_extremes(no_below=15, no_above=0.5, keep_n=10000)\n",
    "\n",
    "\n",
    "# bow_corpus = [dictionary.doc2bow(doc) for doc in df_single_aspect['gensim_tokens']]\n",
    "\n",
    "# from gensim import corpora, models\n",
    "# tfidf = models.TfidfModel(bow_corpus)\n",
    "# corpus_tfidf = tfidf[bow_corpus]\n",
    "# from pprint import pprint\n",
    "# for doc in corpus_tfidf:\n",
    "#     pprint(doc)\n",
    "#     break\n",
    "    \n",
    "# lda_model = gensim.models.LdaMulticore(bow_corpus, num_topics=4, id2word=dictionary, passes=2, workers=2)\n",
    "\n",
    "# for idx, topic in lda_model.print_topics(-1):\n",
    "#     print('Topic: {} \\nWords: {}'.format(idx, topic))\n",
    "    \n",
    "    \n",
    "# lda_model_tfidf = gensim.models.LdaMulticore(corpus_tfidf, num_topics=4, id2word=dictionary, passes=2, workers=4)\n",
    "# for idx, topic in lda_model_tfidf.print_topics(-1):\n",
    "#     print('Topic: {} Word: {}'.format(idx, topic))"
   ]
  },
  {
   "cell_type": "code",
   "execution_count": null,
   "metadata": {},
   "outputs": [],
   "source": []
  },
  {
   "cell_type": "code",
   "execution_count": null,
   "metadata": {},
   "outputs": [],
   "source": []
  },
  {
   "cell_type": "code",
   "execution_count": null,
   "metadata": {},
   "outputs": [],
   "source": []
  },
  {
   "cell_type": "code",
   "execution_count": null,
   "metadata": {},
   "outputs": [],
   "source": []
  }
 ],
 "metadata": {
  "kernelspec": {
   "display_name": "Python [conda env:learn-env] *",
   "language": "python",
   "name": "conda-env-learn-env-py"
  },
  "language_info": {
   "codemirror_mode": {
    "name": "ipython",
    "version": 3
   },
   "file_extension": ".py",
   "mimetype": "text/x-python",
   "name": "python",
   "nbconvert_exporter": "python",
   "pygments_lexer": "ipython3",
   "version": "3.6.9"
  }
 },
 "nbformat": 4,
 "nbformat_minor": 2
}
